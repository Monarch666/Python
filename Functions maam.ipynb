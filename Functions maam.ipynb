{
 "cells": [
  {
   "cell_type": "markdown",
   "id": "622a079a",
   "metadata": {},
   "source": [
    "# Function"
   ]
  },
  {
   "cell_type": "markdown",
   "id": "1af14461",
   "metadata": {},
   "source": [
    "### Function without Return and without parameter"
   ]
  },
  {
   "cell_type": "code",
   "execution_count": 1,
   "id": "b82e8e44",
   "metadata": {},
   "outputs": [],
   "source": [
    "def addition():\n",
    "    a=int(input(\"Enter first number: \"))\n",
    "    b=int(input(\"Enter 2nd number: \"))\n",
    "    c=a+b\n",
    "    print(\"addition is: \",c)\n",
    "    "
   ]
  },
  {
   "cell_type": "code",
   "execution_count": 2,
   "id": "82046e11",
   "metadata": {},
   "outputs": [
    {
     "name": "stdout",
     "output_type": "stream",
     "text": [
      "Enter first number: 56\n",
      "Enter 2nd number: 23\n",
      "addition is:  79\n"
     ]
    }
   ],
   "source": [
    "addition()"
   ]
  },
  {
   "cell_type": "markdown",
   "id": "2e9beb7a",
   "metadata": {},
   "source": [
    "### Function without Return and with parameter"
   ]
  },
  {
   "cell_type": "code",
   "execution_count": 8,
   "id": "eeda195c",
   "metadata": {},
   "outputs": [],
   "source": [
    "def addition(a,b,u):\n",
    "    c=a+b+u\n",
    "    print(\"addition is: \",c)\n",
    "    "
   ]
  },
  {
   "cell_type": "code",
   "execution_count": 9,
   "id": "f71754e7",
   "metadata": {},
   "outputs": [
    {
     "name": "stdout",
     "output_type": "stream",
     "text": [
      "addition is:  19\n"
     ]
    }
   ],
   "source": [
    "addition(8,9,2)"
   ]
  },
  {
   "cell_type": "markdown",
   "id": "a45d4ef0",
   "metadata": {},
   "source": [
    "### Function with Return and without parameter"
   ]
  },
  {
   "cell_type": "code",
   "execution_count": 10,
   "id": "0f756648",
   "metadata": {},
   "outputs": [],
   "source": [
    "def addition():\n",
    "    a=int(input(\"Enter first number: \"))\n",
    "    b=int(input(\"Enter 2nd number: \"))\n",
    "    c=a+b\n",
    "    return \"Addition is:\",c\n",
    "    "
   ]
  },
  {
   "cell_type": "code",
   "execution_count": 11,
   "id": "68071525",
   "metadata": {},
   "outputs": [
    {
     "name": "stdout",
     "output_type": "stream",
     "text": [
      "Enter first number: 56\n",
      "Enter 2nd number: 23\n"
     ]
    },
    {
     "data": {
      "text/plain": [
       "('Addition is:', 79)"
      ]
     },
     "execution_count": 11,
     "metadata": {},
     "output_type": "execute_result"
    }
   ],
   "source": [
    "addition()"
   ]
  },
  {
   "cell_type": "markdown",
   "id": "2a8d4654",
   "metadata": {},
   "source": [
    "### Function with Return and with parameter"
   ]
  },
  {
   "cell_type": "code",
   "execution_count": 12,
   "id": "23dcd2fb",
   "metadata": {},
   "outputs": [],
   "source": [
    "def addition(a,b):\n",
    "    c=a+b\n",
    "    return c\n",
    "    "
   ]
  },
  {
   "cell_type": "code",
   "execution_count": 13,
   "id": "5f67ad86",
   "metadata": {},
   "outputs": [
    {
     "data": {
      "text/plain": [
       "145"
      ]
     },
     "execution_count": 13,
     "metadata": {},
     "output_type": "execute_result"
    }
   ],
   "source": [
    "addition(45,100)"
   ]
  },
  {
   "cell_type": "code",
   "execution_count": 16,
   "id": "d46a57ff",
   "metadata": {},
   "outputs": [],
   "source": [
    "def addition(a,b):\n",
    "    c=a+b\n",
    "    return c\n",
    "def subtraction(a,b):\n",
    "    c=a-b\n",
    "    return c\n",
    "def multiplication(a,b):\n",
    "    c=a*b\n",
    "    return c\n",
    "def division(a,b):\n",
    "    c=a/b\n",
    "    return c\n",
    "    \n",
    "     "
   ]
  },
  {
   "cell_type": "code",
   "execution_count": 18,
   "id": "e6727d85",
   "metadata": {},
   "outputs": [
    {
     "data": {
      "text/plain": [
       "15"
      ]
     },
     "execution_count": 18,
     "metadata": {},
     "output_type": "execute_result"
    }
   ],
   "source": [
    "addition(7,8)"
   ]
  },
  {
   "cell_type": "code",
   "execution_count": 20,
   "id": "e9fd3c7d",
   "metadata": {},
   "outputs": [
    {
     "data": {
      "text/plain": [
       "50"
      ]
     },
     "execution_count": 20,
     "metadata": {},
     "output_type": "execute_result"
    }
   ],
   "source": [
    "subtraction(100,50)"
   ]
  },
  {
   "cell_type": "code",
   "execution_count": 21,
   "id": "6fbc27fb",
   "metadata": {},
   "outputs": [
    {
     "data": {
      "text/plain": [
       "50"
      ]
     },
     "execution_count": 21,
     "metadata": {},
     "output_type": "execute_result"
    }
   ],
   "source": [
    "multiplication(5,10)"
   ]
  },
  {
   "cell_type": "code",
   "execution_count": 22,
   "id": "e687eb66",
   "metadata": {},
   "outputs": [
    {
     "data": {
      "text/plain": [
       "5.0"
      ]
     },
     "execution_count": 22,
     "metadata": {},
     "output_type": "execute_result"
    }
   ],
   "source": [
    "division(50,10)"
   ]
  },
  {
   "cell_type": "code",
   "execution_count": 5,
   "id": "9e4fc564",
   "metadata": {},
   "outputs": [],
   "source": [
    "def wish():\n",
    "    print(\"Hello good morning!\")"
   ]
  },
  {
   "cell_type": "code",
   "execution_count": 6,
   "id": "8e2b8e5d",
   "metadata": {},
   "outputs": [
    {
     "name": "stdout",
     "output_type": "stream",
     "text": [
      "Hello good morning!\n"
     ]
    }
   ],
   "source": [
    "wish()"
   ]
  },
  {
   "cell_type": "code",
   "execution_count": 7,
   "id": "37cff9a8",
   "metadata": {},
   "outputs": [],
   "source": [
    "def wish(name):\n",
    "    print(\"Hello good morning!\",name)"
   ]
  },
  {
   "cell_type": "code",
   "execution_count": 8,
   "id": "90c6d5e1",
   "metadata": {},
   "outputs": [
    {
     "name": "stdout",
     "output_type": "stream",
     "text": [
      "Hello good morning! vivek\n"
     ]
    }
   ],
   "source": [
    "\n",
    "wish(\"vivek\")"
   ]
  },
  {
   "cell_type": "markdown",
   "id": "533cc838",
   "metadata": {},
   "source": [
    "## Print Sqaure of a number"
   ]
  },
  {
   "cell_type": "code",
   "execution_count": 14,
   "id": "2eb95bdd",
   "metadata": {},
   "outputs": [
    {
     "name": "stdout",
     "output_type": "stream",
     "text": [
      "enter number:12\n",
      "square of 12 is 144\n"
     ]
    }
   ],
   "source": [
    "n=int(input(\"enter number:\"))\n",
    "square=n*n\n",
    "print(\"square of\", n,\"is\", square)"
   ]
  },
  {
   "cell_type": "code",
   "execution_count": 18,
   "id": "ba150796",
   "metadata": {},
   "outputs": [],
   "source": [
    "def sqr(n):\n",
    "    print(\"The square of\",n,\"is\",n*n)\n",
    "    print(f\"The square of {n} is {n*n}\")"
   ]
  },
  {
   "cell_type": "code",
   "execution_count": 19,
   "id": "35a03f00",
   "metadata": {
    "scrolled": true
   },
   "outputs": [
    {
     "name": "stdout",
     "output_type": "stream",
     "text": [
      "The square of 5 is 25\n",
      "The square of 5 is 25\n"
     ]
    }
   ],
   "source": [
    "sqr(5)"
   ]
  },
  {
   "cell_type": "code",
   "execution_count": 25,
   "id": "92d8a93e",
   "metadata": {},
   "outputs": [],
   "source": [
    "def square(n):\n",
    "    return n*n"
   ]
  },
  {
   "cell_type": "code",
   "execution_count": 26,
   "id": "91424dc9",
   "metadata": {},
   "outputs": [
    {
     "data": {
      "text/plain": [
       "25"
      ]
     },
     "execution_count": 26,
     "metadata": {},
     "output_type": "execute_result"
    }
   ],
   "source": [
    "square(5)"
   ]
  },
  {
   "cell_type": "code",
   "execution_count": 29,
   "id": "00f8f714",
   "metadata": {
    "scrolled": true
   },
   "outputs": [
    {
     "data": {
      "text/plain": [
       "125"
      ]
     },
     "execution_count": 29,
     "metadata": {},
     "output_type": "execute_result"
    }
   ],
   "source": [
    "def cube(n):\n",
    "    return n*n*n\n",
    "cube(5)\n"
   ]
  },
  {
   "cell_type": "code",
   "execution_count": 28,
   "id": "b60831d8",
   "metadata": {},
   "outputs": [
    {
     "name": "stdout",
     "output_type": "stream",
     "text": [
      "125\n"
     ]
    }
   ],
   "source": [
    "def cube1(n):\n",
    "    print(square(n)*n)\n",
    "cube1(5)\n"
   ]
  },
  {
   "cell_type": "markdown",
   "id": "368323fd",
   "metadata": {},
   "source": [
    "## using return"
   ]
  },
  {
   "cell_type": "code",
   "execution_count": 32,
   "id": "eb674291",
   "metadata": {},
   "outputs": [
    {
     "name": "stdout",
     "output_type": "stream",
     "text": [
      "the multiplication is:  200\n"
     ]
    }
   ],
   "source": [
    "def mult(a,b):\n",
    "    return a*b\n",
    "\n",
    "print(\"the multiplication is: \",mult(10,20))"
   ]
  },
  {
   "cell_type": "markdown",
   "id": "d28e74bd",
   "metadata": {},
   "source": [
    "### Write a code to check whether the given number is Even or Odd"
   ]
  },
  {
   "cell_type": "code",
   "execution_count": 33,
   "id": "112a65e2",
   "metadata": {},
   "outputs": [],
   "source": [
    "def even_odd(num):\n",
    "    if num%2==0:\n",
    "        print(num,\"is even\")\n",
    "    else:\n",
    "        print(num,\"is odd\")"
   ]
  },
  {
   "cell_type": "code",
   "execution_count": 35,
   "id": "b8057f41",
   "metadata": {},
   "outputs": [
    {
     "name": "stdout",
     "output_type": "stream",
     "text": [
      "50 is even\n"
     ]
    }
   ],
   "source": [
    "even_odd(50)\n"
   ]
  },
  {
   "cell_type": "markdown",
   "id": "b4fa0881",
   "metadata": {},
   "source": [
    "### Write a function to find factorial of a given number"
   ]
  },
  {
   "cell_type": "code",
   "execution_count": 37,
   "id": "cde8acf0",
   "metadata": {},
   "outputs": [],
   "source": [
    "def fact(num):\n",
    "    factorial=1\n",
    "    while num>=1: ##factorial of 0 and 1=1     ##11,10,9.........\n",
    "        factorial=factorial*num\n",
    "        num=num-1\n",
    "    return factorial\n",
    "\n",
    "#4*3*2*1      "
   ]
  },
  {
   "cell_type": "code",
   "execution_count": 38,
   "id": "8b9dcc6a",
   "metadata": {
    "scrolled": true
   },
   "outputs": [
    {
     "data": {
      "text/plain": [
       "24"
      ]
     },
     "execution_count": 38,
     "metadata": {},
     "output_type": "execute_result"
    }
   ],
   "source": [
    "fact(4) "
   ]
  },
  {
   "cell_type": "code",
   "execution_count": 40,
   "id": "be2f79f1",
   "metadata": {},
   "outputs": [
    {
     "name": "stdout",
     "output_type": "stream",
     "text": [
      "The factorial of 1 is 1\n",
      "The factorial of 2 is 2\n",
      "The factorial of 3 is 6\n"
     ]
    }
   ],
   "source": [
    "for i in range(1,4):\n",
    "    print(\"The factorial of\",i,\"is\",fact(i))\n",
    "    "
   ]
  },
  {
   "cell_type": "markdown",
   "id": "740bbee1",
   "metadata": {},
   "source": [
    "### Returning Multiple Values from a Function"
   ]
  },
  {
   "cell_type": "raw",
   "id": "a3b31bb3",
   "metadata": {},
   "source": [
    "#in other languages like C,C++ and java function can return atmost 1 value. but in python a fn can return any no.of values"
   ]
  },
  {
   "cell_type": "code",
   "execution_count": 48,
   "id": "76e5fbd6",
   "metadata": {},
   "outputs": [
    {
     "name": "stdout",
     "output_type": "stream",
     "text": [
      "The sum is : 150\n",
      "The subtraction is : 50\n",
      "The nmultiplicatiopn is : 40000\n"
     ]
    }
   ],
   "source": [
    "def sum_sub(a,b,c):\n",
    "    add=a+b+c\n",
    "    sub=a-b-c\n",
    "    mult=a*b*c\n",
    "    return add,sub,mult\n",
    "x,y,z=sum_sub(100,40,10)\n",
    "print(\"The sum is :\",x)\n",
    "print(\"The subtraction is :\",y)\n",
    "print(\"The nmultiplicatiopn is :\",z)"
   ]
  },
  {
   "cell_type": "code",
   "execution_count": 55,
   "id": "a75a9f9e",
   "metadata": {},
   "outputs": [
    {
     "name": "stdout",
     "output_type": "stream",
     "text": [
      "The local variable is 45\n",
      "45\n"
     ]
    }
   ],
   "source": [
    "B=45   ##global\n",
    "def my_function():\n",
    "    A= 10  # Local variable\n",
    "    print(\"The local variable is\",B)\n",
    "\n",
    "my_function()\n",
    "print(B)  # This would result in an error since x is not defined in the global scope\n"
   ]
  },
  {
   "cell_type": "code",
   "execution_count": 19,
   "id": "17e68c1e",
   "metadata": {},
   "outputs": [
    {
     "name": "stdout",
     "output_type": "stream",
     "text": [
      "300\n"
     ]
    }
   ],
   "source": [
    "\n",
    "def f1():\n",
    "    global x\n",
    "    x=300  #local varible\n",
    "    print(x)\n",
    "f1()"
   ]
  },
  {
   "cell_type": "code",
   "execution_count": 20,
   "id": "5bcfdb96",
   "metadata": {
    "scrolled": true
   },
   "outputs": [
    {
     "data": {
      "text/plain": [
       "300"
      ]
     },
     "execution_count": 20,
     "metadata": {},
     "output_type": "execute_result"
    }
   ],
   "source": [
    "x"
   ]
  },
  {
   "cell_type": "code",
   "execution_count": 73,
   "id": "ebd245b6",
   "metadata": {
    "scrolled": true
   },
   "outputs": [
    {
     "data": {
      "text/plain": [
       "45"
      ]
     },
     "execution_count": 73,
     "metadata": {},
     "output_type": "execute_result"
    }
   ],
   "source": [
    "B"
   ]
  },
  {
   "cell_type": "code",
   "execution_count": 77,
   "id": "5eea8b90",
   "metadata": {},
   "outputs": [
    {
     "name": "stdout",
     "output_type": "stream",
     "text": [
      "The local variable is 10\n"
     ]
    }
   ],
   "source": [
    "my_function()\n",
    " "
   ]
  },
  {
   "cell_type": "code",
   "execution_count": 94,
   "id": "babb508a",
   "metadata": {
    "scrolled": true
   },
   "outputs": [
    {
     "data": {
      "text/plain": [
       "(20, 89)"
      ]
     },
     "execution_count": 94,
     "metadata": {},
     "output_type": "execute_result"
    }
   ],
   "source": [
    "m = 89  \n",
    "def outer_function():\n",
    "    v= 20  #local\n",
    "    return v,m\n",
    "    \n",
    "    def inner_function():\n",
    "        return m, \"is global varible\"\n",
    "    \n",
    "    inner_function()\n",
    "\n",
    "\n",
    "outer_function()"
   ]
  },
  {
   "cell_type": "code",
   "execution_count": 89,
   "id": "71c4d245",
   "metadata": {},
   "outputs": [
    {
     "data": {
      "text/plain": [
       "89"
      ]
     },
     "execution_count": 89,
     "metadata": {},
     "output_type": "execute_result"
    }
   ],
   "source": [
    "m"
   ]
  },
  {
   "cell_type": "markdown",
   "id": "dceb5dc4",
   "metadata": {},
   "source": [
    "### Without return and without parameters"
   ]
  },
  {
   "cell_type": "code",
   "execution_count": 78,
   "id": "4323c59e",
   "metadata": {},
   "outputs": [],
   "source": [
    "def sum():\n",
    "    a=52\n",
    "    b=45\n",
    "    print(a+b)"
   ]
  },
  {
   "cell_type": "code",
   "execution_count": 79,
   "id": "76ee9fa9",
   "metadata": {},
   "outputs": [
    {
     "name": "stdout",
     "output_type": "stream",
     "text": [
      "97\n"
     ]
    }
   ],
   "source": [
    "sum()"
   ]
  },
  {
   "cell_type": "markdown",
   "id": "72ef5de2",
   "metadata": {},
   "source": [
    "### With parameter without return"
   ]
  },
  {
   "cell_type": "code",
   "execution_count": 80,
   "id": "1e742b4e",
   "metadata": {},
   "outputs": [],
   "source": [
    "def sum(a,b):\n",
    "    print(a+b)"
   ]
  },
  {
   "cell_type": "code",
   "execution_count": 81,
   "id": "c17222e0",
   "metadata": {},
   "outputs": [
    {
     "name": "stdout",
     "output_type": "stream",
     "text": [
      "97\n"
     ]
    }
   ],
   "source": [
    "sum(45,52)"
   ]
  },
  {
   "cell_type": "markdown",
   "id": "7deb5994",
   "metadata": {},
   "source": [
    "### With parameter and with return"
   ]
  },
  {
   "cell_type": "code",
   "execution_count": 83,
   "id": "28c280e9",
   "metadata": {},
   "outputs": [],
   "source": [
    "def sum(a,b):\n",
    "    return a+b"
   ]
  },
  {
   "cell_type": "code",
   "execution_count": 84,
   "id": "144af506",
   "metadata": {},
   "outputs": [
    {
     "data": {
      "text/plain": [
       "102"
      ]
     },
     "execution_count": 84,
     "metadata": {},
     "output_type": "execute_result"
    }
   ],
   "source": [
    "sum(45,57)"
   ]
  },
  {
   "cell_type": "markdown",
   "id": "720a6dbe",
   "metadata": {},
   "source": [
    "### Without parameter and with return"
   ]
  },
  {
   "cell_type": "code",
   "execution_count": 89,
   "id": "9eb22e04",
   "metadata": {},
   "outputs": [],
   "source": [
    "def sum():\n",
    "    a=45\n",
    "    b=78\n",
    "    return a+b\n"
   ]
  },
  {
   "cell_type": "code",
   "execution_count": 90,
   "id": "fbff5d66",
   "metadata": {},
   "outputs": [
    {
     "data": {
      "text/plain": [
       "123"
      ]
     },
     "execution_count": 90,
     "metadata": {},
     "output_type": "execute_result"
    }
   ],
   "source": [
    "sum()"
   ]
  },
  {
   "cell_type": "markdown",
   "id": "3d22ab02",
   "metadata": {},
   "source": [
    "# Lambda function"
   ]
  },
  {
   "cell_type": "code",
   "execution_count": 22,
   "id": "32df09a0",
   "metadata": {},
   "outputs": [
    {
     "name": "stdout",
     "output_type": "stream",
     "text": [
      "15\n"
     ]
    }
   ],
   "source": [
    "x=lambda a:a+10\n",
    "print(x(5))"
   ]
  },
  {
   "cell_type": "code",
   "execution_count": 98,
   "id": "0aabdf20",
   "metadata": {},
   "outputs": [
    {
     "name": "stdout",
     "output_type": "stream",
     "text": [
      "200\n"
     ]
    }
   ],
   "source": [
    "x=lambda a,b:a*b\n",
    "print(x(10,20))"
   ]
  },
  {
   "cell_type": "code",
   "execution_count": 107,
   "id": "03b2b6c8",
   "metadata": {},
   "outputs": [
    {
     "name": "stdout",
     "output_type": "stream",
     "text": [
      "The square of 5 is 25\n"
     ]
    }
   ],
   "source": [
    "##using def keyword\n",
    "def sqr(n):\n",
    "    square=n*n\n",
    "    print(\"The square of\",n,\"is\",square)\n",
    "sqr(5)"
   ]
  },
  {
   "cell_type": "code",
   "execution_count": 25,
   "id": "b3ca7966",
   "metadata": {},
   "outputs": [
    {
     "name": "stdout",
     "output_type": "stream",
     "text": [
      "Sqaure is: 25\n"
     ]
    }
   ],
   "source": [
    "# Lambda function to calculate the square of a number\n",
    "square = lambda x: x*x\n",
    "# Using the lambda function\n",
    "result=square(5)\n",
    "print(\"Sqaure is:\",result)"
   ]
  },
  {
   "cell_type": "code",
   "execution_count": 27,
   "id": "133c1fc8",
   "metadata": {},
   "outputs": [
    {
     "data": {
      "text/plain": [
       "False"
      ]
     },
     "execution_count": 27,
     "metadata": {},
     "output_type": "execute_result"
    }
   ],
   "source": [
    "even=lambda x: x%2==0\n",
    "even(45)"
   ]
  },
  {
   "cell_type": "code",
   "execution_count": 28,
   "id": "358d52fb",
   "metadata": {},
   "outputs": [
    {
     "name": "stdout",
     "output_type": "stream",
     "text": [
      "[23, 57, 73]\n"
     ]
    }
   ],
   "source": [
    "#with lambda: filter(),map(),reduce()\n",
    "\n",
    "#lambda with filter sytax:(list(filter(lambda x:expression)))\n",
    "numbers = [10, 23, 42, 57, 68, 73, 82]\n",
    "odd_numbers = list(filter(lambda num: num % 2 != 0, numbers))\n",
    "print(odd_numbers)\n"
   ]
  },
  {
   "cell_type": "raw",
   "id": "e5039872",
   "metadata": {},
   "source": [
    "1. Write a Python program to create a lambda function that adds 15 to a given number passed in as an argument, also create a lambda function that multiplies argument x with argument y and prints the result."
   ]
  },
  {
   "cell_type": "code",
   "execution_count": 30,
   "id": "5d822e88",
   "metadata": {},
   "outputs": [
    {
     "data": {
      "text/plain": [
       "30"
      ]
     },
     "execution_count": 30,
     "metadata": {},
     "output_type": "execute_result"
    }
   ],
   "source": [
    "a=lambda x:x+15\n",
    "a(15)"
   ]
  },
  {
   "cell_type": "code",
   "execution_count": 114,
   "id": "0d7ce184",
   "metadata": {},
   "outputs": [
    {
     "data": {
      "text/plain": [
       "20"
      ]
     },
     "execution_count": 114,
     "metadata": {},
     "output_type": "execute_result"
    }
   ],
   "source": [
    "b= lambda x,y:x*y\n",
    "b(4,5)"
   ]
  },
  {
   "cell_type": "raw",
   "id": "99657bff",
   "metadata": {},
   "source": [
    "Write a Python program to square and cube every number in a given list of integers using Lambda.\n",
    "Original list of integers:\n",
    "[1, 2, 3, 4, 5, 6, 7, 8, 9, 10]\n",
    "Square every number of the said list:\n",
    "[1, 4, 9, 16, 25, 36, 49, 64, 81, 100]\n",
    "Cube every number of the said list:\n",
    "[1, 8, 27, 64, 125, 216, 343, 512, 729, 1000]"
   ]
  },
  {
   "cell_type": "code",
   "execution_count": 36,
   "id": "204c8834",
   "metadata": {
    "scrolled": true
   },
   "outputs": [],
   "source": [
    "#lambda with map:(list(map(lambda x:expression)))\n",
    "\n",
    "list1=[1, 2, 3, 4, 5, 6, 7, 8, 9, 10]\n",
    "sqaure=list(map(lambda x:x*x*x,list1))"
   ]
  },
  {
   "cell_type": "code",
   "execution_count": 37,
   "id": "68cebcc9",
   "metadata": {},
   "outputs": [
    {
     "data": {
      "text/plain": [
       "[1, 8, 27, 64, 125, 216, 343, 512, 729, 1000]"
      ]
     },
     "execution_count": 37,
     "metadata": {},
     "output_type": "execute_result"
    }
   ],
   "source": [
    "sqaure"
   ]
  },
  {
   "cell_type": "code",
   "execution_count": 127,
   "id": "c7817450",
   "metadata": {},
   "outputs": [
    {
     "ename": "ModuleNotFoundError",
     "evalue": "No module named 'calc'",
     "output_type": "error",
     "traceback": [
      "\u001b[1;31m---------------------------------------------------------------------------\u001b[0m",
      "\u001b[1;31mModuleNotFoundError\u001b[0m                       Traceback (most recent call last)",
      "Cell \u001b[1;32mIn[127], line 1\u001b[0m\n\u001b[1;32m----> 1\u001b[0m \u001b[38;5;28;01mimport\u001b[39;00m \u001b[38;5;21;01mcalc\u001b[39;00m\n",
      "\u001b[1;31mModuleNotFoundError\u001b[0m: No module named 'calc'"
     ]
    }
   ],
   "source": [
    "import calc"
   ]
  },
  {
   "cell_type": "code",
   "execution_count": 128,
   "id": "e88859b2",
   "metadata": {},
   "outputs": [],
   "source": []
  },
  {
   "cell_type": "code",
   "execution_count": 140,
   "id": "425bfc6a",
   "metadata": {},
   "outputs": [
    {
     "data": {
      "text/plain": [
       "8.0"
      ]
     },
     "execution_count": 140,
     "metadata": {},
     "output_type": "execute_result"
    }
   ],
   "source": [
    "sqrt(64)"
   ]
  },
  {
   "cell_type": "code",
   "execution_count": 141,
   "id": "f1240ae0",
   "metadata": {},
   "outputs": [
    {
     "data": {
      "text/plain": [
       "40320"
      ]
     },
     "execution_count": 141,
     "metadata": {},
     "output_type": "execute_result"
    }
   ],
   "source": [
    "factorial(8)"
   ]
  },
  {
   "cell_type": "code",
   "execution_count": 144,
   "id": "c143c6da",
   "metadata": {},
   "outputs": [],
   "source": [
    "import math\n",
    "from math import* "
   ]
  },
  {
   "cell_type": "code",
   "execution_count": 1,
   "id": "421a6e5d",
   "metadata": {},
   "outputs": [],
   "source": [
    "def m1():\n",
    "    x=300  #local scope\n",
    "    print(x)"
   ]
  },
  {
   "cell_type": "code",
   "execution_count": 2,
   "id": "beb12125",
   "metadata": {},
   "outputs": [
    {
     "name": "stdout",
     "output_type": "stream",
     "text": [
      "300\n"
     ]
    }
   ],
   "source": [
    "m1()"
   ]
  },
  {
   "cell_type": "code",
   "execution_count": 3,
   "id": "231000f8",
   "metadata": {},
   "outputs": [
    {
     "ename": "NameError",
     "evalue": "name 'x' is not defined",
     "output_type": "error",
     "traceback": [
      "\u001b[1;31m---------------------------------------------------------------------------\u001b[0m",
      "\u001b[1;31mNameError\u001b[0m                                 Traceback (most recent call last)",
      "Cell \u001b[1;32mIn[3], line 1\u001b[0m\n\u001b[1;32m----> 1\u001b[0m \u001b[43mx\u001b[49m\n",
      "\u001b[1;31mNameError\u001b[0m: name 'x' is not defined"
     ]
    }
   ],
   "source": [
    "x"
   ]
  },
  {
   "cell_type": "code",
   "execution_count": 17,
   "id": "e357a40a",
   "metadata": {},
   "outputs": [],
   "source": [
    "c=200  #globaly declared\n",
    "def m1():\n",
    "    print(x)  #global scop"
   ]
  },
  {
   "cell_type": "code",
   "execution_count": 5,
   "id": "e69d0f74",
   "metadata": {},
   "outputs": [
    {
     "name": "stdout",
     "output_type": "stream",
     "text": [
      "200\n"
     ]
    }
   ],
   "source": [
    "m1()"
   ]
  },
  {
   "cell_type": "code",
   "execution_count": 6,
   "id": "f56b9f23",
   "metadata": {
    "scrolled": true
   },
   "outputs": [
    {
     "data": {
      "text/plain": [
       "200"
      ]
     },
     "execution_count": 6,
     "metadata": {},
     "output_type": "execute_result"
    }
   ],
   "source": [
    "x"
   ]
  },
  {
   "cell_type": "code",
   "execution_count": 68,
   "id": "8f62e00f",
   "metadata": {},
   "outputs": [],
   "source": [
    "def arithmatic():\n",
    "    o=34\n",
    "    p=56\n",
    "    z=o+p\n",
    "    print(z)\n",
    "    def sub():\n",
    "        a=o-p\n",
    "        print(a)\n",
    "    sub()"
   ]
  },
  {
   "cell_type": "code",
   "execution_count": 69,
   "id": "9412f7f6",
   "metadata": {},
   "outputs": [
    {
     "name": "stdout",
     "output_type": "stream",
     "text": [
      "90\n",
      "-22\n"
     ]
    }
   ],
   "source": [
    "arithmatic()\n"
   ]
  },
  {
   "cell_type": "code",
   "execution_count": 25,
   "id": "bae28bbc",
   "metadata": {},
   "outputs": [
    {
     "ename": "NameError",
     "evalue": "name 'o' is not defined",
     "output_type": "error",
     "traceback": [
      "\u001b[1;31m---------------------------------------------------------------------------\u001b[0m",
      "\u001b[1;31mNameError\u001b[0m                                 Traceback (most recent call last)",
      "Cell \u001b[1;32mIn[25], line 1\u001b[0m\n\u001b[1;32m----> 1\u001b[0m \u001b[43mo\u001b[49m\n",
      "\u001b[1;31mNameError\u001b[0m: name 'o' is not defined"
     ]
    }
   ],
   "source": [
    "o"
   ]
  },
  {
   "cell_type": "code",
   "execution_count": 74,
   "id": "8643cbb7",
   "metadata": {},
   "outputs": [],
   "source": [
    "def arithmatic():\n",
    "    global o,p\n",
    "    #global p\n",
    "    o=34\n",
    "    p=56\n",
    "    z=o+p\n",
    "    print(z)"
   ]
  },
  {
   "cell_type": "code",
   "execution_count": 80,
   "id": "494e0146",
   "metadata": {},
   "outputs": [
    {
     "name": "stdout",
     "output_type": "stream",
     "text": [
      "90\n"
     ]
    }
   ],
   "source": [
    "a=arithmatic()"
   ]
  },
  {
   "cell_type": "code",
   "execution_count": 88,
   "id": "4d0382ad",
   "metadata": {},
   "outputs": [],
   "source": [
    "def add(n):\n",
    "    arithmatic()\n",
    "    "
   ]
  },
  {
   "cell_type": "code",
   "execution_count": 89,
   "id": "b9cd695f",
   "metadata": {},
   "outputs": [
    {
     "name": "stdout",
     "output_type": "stream",
     "text": [
      "90\n"
     ]
    }
   ],
   "source": [
    "add(5)"
   ]
  },
  {
   "cell_type": "code",
   "execution_count": 49,
   "id": "5973ba2c",
   "metadata": {},
   "outputs": [],
   "source": [
    "#lambda arguments:expressions\n",
    "y=lambda x,y:x**y  #one liner\n"
   ]
  },
  {
   "cell_type": "code",
   "execution_count": 52,
   "id": "170162d8",
   "metadata": {
    "scrolled": true
   },
   "outputs": [
    {
     "data": {
      "text/plain": [
       "15625"
      ]
     },
     "execution_count": 52,
     "metadata": {},
     "output_type": "execute_result"
    }
   ],
   "source": [
    "y(5,6)"
   ]
  },
  {
   "cell_type": "code",
   "execution_count": 58,
   "id": "21fa5c4b",
   "metadata": {},
   "outputs": [],
   "source": [
    "x=lambda a:a+10"
   ]
  },
  {
   "cell_type": "code",
   "execution_count": 59,
   "id": "808354ec",
   "metadata": {},
   "outputs": [
    {
     "data": {
      "text/plain": [
       "13"
      ]
     },
     "execution_count": 59,
     "metadata": {},
     "output_type": "execute_result"
    }
   ],
   "source": [
    "x(3)"
   ]
  },
  {
   "cell_type": "code",
   "execution_count": 66,
   "id": "07a010f0",
   "metadata": {},
   "outputs": [
    {
     "name": "stdout",
     "output_type": "stream",
     "text": [
      "26\n",
      "12\n"
     ]
    }
   ],
   "source": [
    "def f1(n):\n",
    "    return lambda a:a*n\n",
    "double=f1(2)\n",
    "print(double(13))  #lambda\n",
    "triplet=f1(3)\n",
    "print(triplet(4))"
   ]
  },
  {
   "cell_type": "code",
   "execution_count": null,
   "id": "7beb6c88",
   "metadata": {},
   "outputs": [],
   "source": []
  }
 ],
 "metadata": {
  "kernelspec": {
   "display_name": "Python 3 (ipykernel)",
   "language": "python",
   "name": "python3"
  },
  "language_info": {
   "codemirror_mode": {
    "name": "ipython",
    "version": 3
   },
   "file_extension": ".py",
   "mimetype": "text/x-python",
   "name": "python",
   "nbconvert_exporter": "python",
   "pygments_lexer": "ipython3",
   "version": "3.11.3"
  }
 },
 "nbformat": 4,
 "nbformat_minor": 5
}
