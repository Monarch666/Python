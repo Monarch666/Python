{
 "cells": [
  {
   "cell_type": "markdown",
   "id": "71891165",
   "metadata": {},
   "source": [
    "# single inheretence"
   ]
  },
  {
   "cell_type": "code",
   "execution_count": 3,
   "id": "e696f709",
   "metadata": {},
   "outputs": [
    {
     "name": "stdout",
     "output_type": "stream",
     "text": [
      "Feature 1 is working\n",
      "Feature 2 is working\n",
      "Feature 3 is working\n",
      "Feature 4 is working\n"
     ]
    }
   ],
   "source": [
    "class A:\n",
    "    def feature1(self):\n",
    "        print(\"Feature 1 is working\")\n",
    "    def feature2(self):\n",
    "        print(\"Feature 2 is working\")\n",
    "class B(A):\n",
    "    def feature3(self):\n",
    "        print(\"Feature 3 is working\")\n",
    "    def feature4(self):\n",
    "        print(\"Feature 4 is working\")\n",
    "        \n",
    "b=B()\n",
    "b.feature1()\n",
    "b.feature2()\n",
    "b.feature3()\n",
    "b.feature4()"
   ]
  },
  {
   "cell_type": "code",
   "execution_count": 4,
   "id": "9f103b7b",
   "metadata": {},
   "outputs": [
    {
     "name": "stdout",
     "output_type": "stream",
     "text": [
      "Feature 1 is working\n",
      "Feature 2 is working\n"
     ]
    },
    {
     "ename": "AttributeError",
     "evalue": "'A' object has no attribute 'feature3'",
     "output_type": "error",
     "traceback": [
      "\u001b[1;31m---------------------------------------------------------------------------\u001b[0m",
      "\u001b[1;31mAttributeError\u001b[0m                            Traceback (most recent call last)",
      "Cell \u001b[1;32mIn[4], line 15\u001b[0m\n\u001b[0;32m     13\u001b[0m b\u001b[38;5;241m.\u001b[39mfeature1()\n\u001b[0;32m     14\u001b[0m b\u001b[38;5;241m.\u001b[39mfeature2()\n\u001b[1;32m---> 15\u001b[0m b\u001b[38;5;241m.\u001b[39mfeature3()\n\u001b[0;32m     16\u001b[0m b\u001b[38;5;241m.\u001b[39mfeature4()\n",
      "\u001b[1;31mAttributeError\u001b[0m: 'A' object has no attribute 'feature3'"
     ]
    }
   ],
   "source": [
    "class A:\n",
    "    def feature1(self):\n",
    "        print(\"Feature 1 is working\")\n",
    "    def feature2(self):\n",
    "        print(\"Feature 2 is working\")\n",
    "class B(A):\n",
    "    def feature3(self):\n",
    "        print(\"Feature 3 is working\")\n",
    "    def feature4(self):\n",
    "        print(\"Feature 4 is working\")\n",
    "        \n",
    "b=A()\n",
    "b.feature1()\n",
    "b.feature2()\n",
    "b.feature3()\n",
    "b.feature4()"
   ]
  },
  {
   "cell_type": "code",
   "execution_count": 14,
   "id": "2cf1f6d5",
   "metadata": {},
   "outputs": [
    {
     "name": "stdout",
     "output_type": "stream",
     "text": [
      "Feature 1 is working\n"
     ]
    }
   ],
   "source": [
    "class A:\n",
    "    def feature1(self):\n",
    "        print(\"Feature 1 is working\")\n",
    "    def feature2(self):\n",
    "        print(\"Feature 2 is working\")\n",
    "class B(A):\n",
    "    def feature3(self):\n",
    "        print(\"Feature 3 is working\")\n",
    "    def feature4(self):\n",
    "        print(\"Feature 4 is working\")\n",
    "        \n",
    "b=A()\n",
    "b.feature1()"
   ]
  },
  {
   "cell_type": "code",
   "execution_count": 20,
   "id": "7939ba47",
   "metadata": {},
   "outputs": [
    {
     "name": "stdout",
     "output_type": "stream",
     "text": [
      "Feature 1 is working\n",
      "Feature 2 is working\n",
      "Feature 3 is working\n",
      "Feature 4 is working\n",
      "Feature 5 is working\n",
      "Feature 6 is working\n"
     ]
    }
   ],
   "source": [
    "class A:\n",
    "    def feature1(self):\n",
    "        print(\"Feature 1 is working\")\n",
    "    def feature2(self):\n",
    "        print(\"Feature 2 is working\")\n",
    "class B:\n",
    "    def feature3(self):\n",
    "        print(\"Feature 3 is working\")\n",
    "    def feature4(self):\n",
    "        print(\"Feature 4 is working\")\n",
    "class C(A,B):\n",
    "    def feature5(self):\n",
    "        print(\"Feature 5 is working\")\n",
    "    def feature6(self):\n",
    "        print(\"Feature 6 is working\")\n",
    "b=C()\n",
    "b.feature1()\n",
    "b.feature2()\n",
    "b.feature3()\n",
    "b.feature4()\n",
    "b.feature5()\n",
    "b.feature6()"
   ]
  },
  {
   "cell_type": "code",
   "execution_count": 21,
   "id": "1691bca2",
   "metadata": {},
   "outputs": [
    {
     "name": "stdout",
     "output_type": "stream",
     "text": [
      "Feature 1 is working\n",
      "Feature 2 is working\n",
      "Feature 3 is working\n",
      "Feature 4 is working\n",
      "Feature 5 is working\n",
      "Feature 6 is working\n"
     ]
    }
   ],
   "source": [
    "class A:\n",
    "    def feature1(self):\n",
    "        print(\"Feature 1 is working\")\n",
    "    def feature2(self):\n",
    "        print(\"Feature 2 is working\")\n",
    "class B(A):\n",
    "    def feature3(self):\n",
    "        print(\"Feature 3 is working\")\n",
    "    def feature4(self):\n",
    "        print(\"Feature 4 is working\")\n",
    "class C(B):\n",
    "    def feature5(self):\n",
    "        print(\"Feature 5 is working\")\n",
    "    def feature6(self):\n",
    "        print(\"Feature 6 is working\")\n",
    "b=C()\n",
    "b.feature1()\n",
    "b.feature2()\n",
    "b.feature3()\n",
    "b.feature4()\n",
    "b.feature5()\n",
    "b.feature6()"
   ]
  },
  {
   "cell_type": "code",
   "execution_count": 27,
   "id": "d5eba977",
   "metadata": {},
   "outputs": [
    {
     "name": "stdout",
     "output_type": "stream",
     "text": [
      "Feature 1 is working\n",
      "Feature 2 is working\n",
      "Feature 3 is working\n",
      "Feature 4 is working\n",
      "Feature 5 is working\n",
      "Feature 6 is working\n"
     ]
    }
   ],
   "source": [
    "class A(C):\n",
    "    def feature1(self):\n",
    "        print(\"Feature 1 is working\")\n",
    "    def feature2(self):\n",
    "        print(\"Feature 2 is working\")\n",
    "class B(A):\n",
    "    def feature3(self):\n",
    "        print(\"Feature 3 is working\")\n",
    "    def feature4(self):\n",
    "        print(\"Feature 4 is working\")\n",
    "class C(B):\n",
    "    def feature5(self):\n",
    "        print(\"Feature 5 is working\")\n",
    "    def feature6(self):\n",
    "        print(\"Feature 6 is working\")\n",
    "b=C()\n",
    "b.feature1()\n",
    "b.feature2()\n",
    "b.feature3()\n",
    "b.feature4()\n",
    "b.feature5()\n",
    "b.feature6()"
   ]
  },
  {
   "cell_type": "code",
   "execution_count": null,
   "id": "0446015d",
   "metadata": {},
   "outputs": [],
   "source": []
  }
 ],
 "metadata": {
  "kernelspec": {
   "display_name": "Python 3 (ipykernel)",
   "language": "python",
   "name": "python3"
  },
  "language_info": {
   "codemirror_mode": {
    "name": "ipython",
    "version": 3
   },
   "file_extension": ".py",
   "mimetype": "text/x-python",
   "name": "python",
   "nbconvert_exporter": "python",
   "pygments_lexer": "ipython3",
   "version": "3.11.4"
  }
 },
 "nbformat": 4,
 "nbformat_minor": 5
}
