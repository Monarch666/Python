{
 "cells": [
  {
   "cell_type": "code",
   "execution_count": 11,
   "id": "c927c3f1",
   "metadata": {
    "scrolled": true
   },
   "outputs": [
    {
     "data": {
      "text/plain": [
       "True"
      ]
     },
     "execution_count": 11,
     "metadata": {},
     "output_type": "execute_result"
    }
   ],
   "source": [
    "even= lambda a:a%2==0\n",
    "even(10)"
   ]
  },
  {
   "cell_type": "code",
   "execution_count": 16,
   "id": "47b1027f",
   "metadata": {},
   "outputs": [
    {
     "name": "stdout",
     "output_type": "stream",
     "text": [
      "22\n"
     ]
    }
   ],
   "source": [
    "r=lambda a: a + 12\n",
    "print(r(10))"
   ]
  },
  {
   "cell_type": "code",
   "execution_count": 19,
   "id": "eab29905",
   "metadata": {},
   "outputs": [
    {
     "name": "stdout",
     "output_type": "stream",
     "text": [
      "Enter a number=8\n",
      "Value of r {<function <lambda> at 0x000001935C8B6340>}\n"
     ]
    }
   ],
   "source": [
    "r=int(input(\"Enter a number=\"))\n",
    "r= lambda a:a + 9\n",
    "print(f\"Value of r\",{r})"
   ]
  },
  {
   "cell_type": "code",
   "execution_count": 28,
   "id": "189dcb05",
   "metadata": {},
   "outputs": [],
   "source": [
    "def halwa(a):\n",
    "    \n",
    "    halwa=float(input(\"Number bol=\"))\n",
    "    return lambda a:1+a\n",
    "    print(halwa)"
   ]
  },
  {
   "cell_type": "code",
   "execution_count": 30,
   "id": "d1105e05",
   "metadata": {},
   "outputs": [
    {
     "name": "stdout",
     "output_type": "stream",
     "text": [
      "ANswer {<function multiplier.<locals>.<lambda> at 0x000001935C8B6F20>}\n"
     ]
    }
   ],
   "source": [
    "def multiplier(n):\n",
    "    return lambda a:a*n\n",
    "result=multiplier(2)\n",
    "print()"
   ]
  },
  {
   "cell_type": "code",
   "execution_count": null,
   "id": "5cc6cd94",
   "metadata": {},
   "outputs": [],
   "source": []
  }
 ],
 "metadata": {
  "kernelspec": {
   "display_name": "Python 3 (ipykernel)",
   "language": "python",
   "name": "python3"
  },
  "language_info": {
   "codemirror_mode": {
    "name": "ipython",
    "version": 3
   },
   "file_extension": ".py",
   "mimetype": "text/x-python",
   "name": "python",
   "nbconvert_exporter": "python",
   "pygments_lexer": "ipython3",
   "version": "3.11.4"
  }
 },
 "nbformat": 4,
 "nbformat_minor": 5
}
