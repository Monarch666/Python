{
 "cells": [
  {
   "cell_type": "markdown",
   "id": "271f563c",
   "metadata": {},
   "source": [
    "# Barometer"
   ]
  },
  {
   "cell_type": "code",
   "execution_count": 25,
   "id": "3ca0c706",
   "metadata": {},
   "outputs": [
    {
     "name": "stdout",
     "output_type": "stream",
     "text": [
      "Enter the temperature=21\n",
      "Hot\n"
     ]
    }
   ],
   "source": [
    "temperature=float(input(\"Enter the temperature=\"))\n",
    "\n",
    "if temperature == 0:\n",
    "    print(\"Its freezing point\")\n",
    "elif 0> temperature >-275:\n",
    "    print(\"Very cold\")\n",
    "elif 0< temperature <= 20:\n",
    "    print(\" pleasent\")\n",
    "elif 20< temperature <= 40:\n",
    "    print (\"Hot\")\n",
    "else:\n",
    "    print(\"Very hot\")\n",
    "  \n",
    "    "
   ]
  },
  {
   "cell_type": "markdown",
   "id": "cc49fb73",
   "metadata": {},
   "source": [
    "# Calculator"
   ]
  },
  {
   "cell_type": "code",
   "execution_count": null,
   "id": "69869344",
   "metadata": {},
   "outputs": [],
   "source": [
    "num1=float(input(\"Enter a number=\"))\n",
    "op=str(input(\"Select operation to be peformed (+,-,/,*)\"))\n",
    "num2=float(input(\"Enter a number=\"))\n",
    "\n",
    "if op == \"+\":\n",
    "    result=num1+num2\n",
    "    print(f\"Addition of\", {num1}, \"and\", {})\n"
   ]
  },
  {
   "cell_type": "markdown",
   "id": "e25e116a",
   "metadata": {},
   "source": [
    "# Nested IF"
   ]
  },
  {
   "cell_type": "code",
   "execution_count": 37,
   "id": "95d7c14c",
   "metadata": {},
   "outputs": [
    {
     "name": "stdout",
     "output_type": "stream",
     "text": [
      "Are you hungry?(Yes/No)no\n",
      "Thank you for visiting\n"
     ]
    }
   ],
   "source": [
    "customer=input(\"Are you hungry?(Yes/No)\").upper()\n",
    "\n",
    "if customer== \"YES\":\n",
    "    Veg_Nonveg=str(input(\"Veg or nonveg?\")).upper()\n",
    "    \n",
    "    if Veg_Nonveg ==\"VEG\":\n",
    "        print(\"Paneer is available\")\n",
    "    else:\n",
    "        print(\"Nothing is available\")\n",
    "else:\n",
    "    print(\"Thank you for visiting\")"
   ]
  },
  {
   "cell_type": "code",
   "execution_count": null,
   "id": "057b8391",
   "metadata": {},
   "outputs": [],
   "source": []
  }
 ],
 "metadata": {
  "kernelspec": {
   "display_name": "Python 3 (ipykernel)",
   "language": "python",
   "name": "python3"
  },
  "language_info": {
   "codemirror_mode": {
    "name": "ipython",
    "version": 3
   },
   "file_extension": ".py",
   "mimetype": "text/x-python",
   "name": "python",
   "nbconvert_exporter": "python",
   "pygments_lexer": "ipython3",
   "version": "3.11.4"
  }
 },
 "nbformat": 4,
 "nbformat_minor": 5
}
