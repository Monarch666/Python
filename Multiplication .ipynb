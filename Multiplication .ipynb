{
 "cells": [
  {
   "cell_type": "code",
   "execution_count": 8,
   "id": "914f87a6",
   "metadata": {},
   "outputs": [
    {
     "name": "stdout",
     "output_type": "stream",
     "text": [
      "Sum is 32\n",
      "multiplication of them is 240\n",
      "Subtraction is -8\n",
      "Division is 0.6\n",
      "Floor divison 0\n",
      "Reminder is 12\n"
     ]
    }
   ],
   "source": [
    "a=12\n",
    "b=20\n",
    "\n",
    "c=a+b\n",
    "print(\"Sum is\",c)\n",
    "\n",
    "c=a*b\n",
    "print(\"multiplication of them is\",c)\n",
    "\n",
    "c=a-b\n",
    "print(\"Subtraction is\",c)\n",
    "\n",
    "c=a/b\n",
    "print(\"Division is\",c)\n",
    "\n",
    "c=a//b\n",
    "print(\"Floor divison\",c)\n",
    "\n",
    "c=a%b\n",
    "print(\"Reminder is\",c)\n",
    "\n",
    "c=a**"
   ]
  },
  {
   "cell_type": "code",
   "execution_count": 5,
   "id": "565708b1",
   "metadata": {},
   "outputs": [
    {
     "data": {
      "text/plain": [
       "<function print(*args, sep=' ', end='\\n', file=None, flush=False)>"
      ]
     },
     "execution_count": 5,
     "metadata": {},
     "output_type": "execute_result"
    }
   ],
   "source": [
    "print"
   ]
  },
  {
   "cell_type": "code",
   "execution_count": 3,
   "id": "41175f17",
   "metadata": {},
   "outputs": [
    {
     "name": "stdout",
     "output_type": "stream",
     "text": [
      "5\n"
     ]
    }
   ],
   "source": [
    "print(c)"
   ]
  },
  {
   "cell_type": "code",
   "execution_count": null,
   "id": "bb7c6507",
   "metadata": {},
   "outputs": [],
   "source": []
  }
 ],
 "metadata": {
  "kernelspec": {
   "display_name": "Python 3 (ipykernel)",
   "language": "python",
   "name": "python3"
  },
  "language_info": {
   "codemirror_mode": {
    "name": "ipython",
    "version": 3
   },
   "file_extension": ".py",
   "mimetype": "text/x-python",
   "name": "python",
   "nbconvert_exporter": "python",
   "pygments_lexer": "ipython3",
   "version": "3.11.3"
  }
 },
 "nbformat": 4,
 "nbformat_minor": 5
}
