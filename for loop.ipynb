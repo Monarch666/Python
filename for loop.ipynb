{
 "cells": [
  {
   "cell_type": "code",
   "execution_count": null,
   "id": "6e3e5bdd",
   "metadata": {},
   "outputs": [],
   "source": []
  },
  {
   "cell_type": "code",
   "execution_count": 16,
   "id": "4fb4f2d7",
   "metadata": {
    "scrolled": false
   },
   "outputs": [
    {
     "name": "stdout",
     "output_type": "stream",
     "text": [
      "0\n",
      "1\n",
      "2\n",
      "3\n",
      "4\n",
      "5\n",
      "6\n",
      "7\n",
      "8\n",
      "9\n",
      "10\n"
     ]
    }
   ],
   "source": [
    "for i in range(0,11):\n",
    "    print(i)"
   ]
  },
  {
   "cell_type": "code",
   "execution_count": 80,
   "id": "da195300",
   "metadata": {},
   "outputs": [
    {
     "name": "stdout",
     "output_type": "stream",
     "text": [
      "IPCS\n",
      "IPCS\n",
      "IPCS\n",
      "IPCS\n",
      "IPCS\n",
      "IPCS\n",
      "IPCS\n",
      "IPCS\n",
      "IPCS\n",
      "IPCS\n",
      "IPCS\n"
     ]
    }
   ],
   "source": [
    "for i in range(0,11):\n",
    "    print(\"IPCS\")"
   ]
  },
  {
   "cell_type": "code",
   "execution_count": 81,
   "id": "b9a1d65f",
   "metadata": {
    "scrolled": true
   },
   "outputs": [
    {
     "name": "stdout",
     "output_type": "stream",
     "text": [
      "10\n",
      "9\n",
      "8\n",
      "7\n",
      "6\n",
      "5\n",
      "4\n",
      "3\n",
      "2\n",
      "1\n"
     ]
    }
   ],
   "source": [
    "for i in range(10,0,-1):\n",
    "    print(i)"
   ]
  },
  {
   "cell_type": "markdown",
   "id": "c800e07f",
   "metadata": {},
   "source": [
    "### printing numbers from 50 to 10[50,45,40....]"
   ]
  },
  {
   "cell_type": "code",
   "execution_count": 84,
   "id": "ea668f89",
   "metadata": {},
   "outputs": [
    {
     "name": "stdout",
     "output_type": "stream",
     "text": [
      "50\n",
      "45\n",
      "40\n",
      "35\n",
      "30\n",
      "25\n",
      "20\n",
      "15\n",
      "10\n"
     ]
    }
   ],
   "source": [
    "for i in range(50,5,-5):\n",
    "    print(i)"
   ]
  },
  {
   "cell_type": "markdown",
   "id": "3ed7e488",
   "metadata": {},
   "source": [
    "# 1.Sum of Numbers:"
   ]
  },
  {
   "cell_type": "code",
   "execution_count": 94,
   "id": "16fa32b0",
   "metadata": {},
   "outputs": [
    {
     "name": "stdout",
     "output_type": "stream",
     "text": [
      "Enter a number: 5\n",
      "Sum: 15\n"
     ]
    }
   ],
   "source": [
    "total = 0\n",
    "n = int(input(\"Enter a number: \"))\n",
    "for i in range(1, n+ 1 ):\n",
    "    total += i\n",
    "print(\"Sum:\", total)\n"
   ]
  },
  {
   "cell_type": "markdown",
   "id": "d25ca3e9",
   "metadata": {},
   "source": [
    "# 2. Factorial"
   ]
  },
  {
   "cell_type": "code",
   "execution_count": 1,
   "id": "0fecb9fb",
   "metadata": {
    "scrolled": true
   },
   "outputs": [
    {
     "name": "stdout",
     "output_type": "stream",
     "text": [
      "Enter a number: 9\n",
      "Factorial: 362880\n"
     ]
    }
   ],
   "source": [
    "result = 1\n",
    "n = int(input(\"Enter a number: \"))\n",
    "for i in range(1, n + 1):\n",
    "    result =result*i\n",
    "print(\"Factorial:\", result)\n"
   ]
  },
  {
   "cell_type": "markdown",
   "id": "595b8de2",
   "metadata": {},
   "source": [
    "# 3.Table of a Number:"
   ]
  },
  {
   "cell_type": "code",
   "execution_count": 97,
   "id": "bfedae0c",
   "metadata": {},
   "outputs": [
    {
     "name": "stdout",
     "output_type": "stream",
     "text": [
      "Enter a number: 6\n",
      "6 x 1 = 6\n",
      "6 x 2 = 12\n",
      "6 x 3 = 18\n",
      "6 x 4 = 24\n",
      "6 x 5 = 30\n",
      "6 x 6 = 36\n",
      "6 x 7 = 42\n",
      "6 x 8 = 48\n",
      "6 x 9 = 54\n",
      "6 x 10 = 60\n"
     ]
    }
   ],
   "source": [
    "n = int(input(\"Enter a number: \"))\n",
    "for i in range(1, 11):\n",
    "    print(f\"{n} x {i} = {n * i}\")\n",
    "    \n"
   ]
  },
  {
   "cell_type": "markdown",
   "id": "8c28deb4",
   "metadata": {},
   "source": [
    "# 4.Counting Characters in a String:"
   ]
  },
  {
   "cell_type": "code",
   "execution_count": 100,
   "id": "43159f6c",
   "metadata": {},
   "outputs": [
    {
     "name": "stdout",
     "output_type": "stream",
     "text": [
      "Enter a string: python\n",
      "Enter a character to count: a\n",
      "Occurrences of 'a': 0\n"
     ]
    }
   ],
   "source": [
    "text = str(input(\"Enter a string: \"))#pythop\n",
    "target_char = input(\"Enter a character to count: \")#p\n",
    "count = 0\n",
    "\n",
    "for c in text:\n",
    "    if c == target_char:\n",
    "        count += 1\n",
    "print(f\"Occurrences of '{target_char}': {count}\")\n"
   ]
  },
  {
   "cell_type": "markdown",
   "id": "25503c91",
   "metadata": {},
   "source": [
    "# 5.Calculating the average grade for a list of student grades."
   ]
  },
  {
   "cell_type": "code",
   "execution_count": 101,
   "id": "a0fc6e6f",
   "metadata": {
    "scrolled": true
   },
   "outputs": [
    {
     "name": "stdout",
     "output_type": "stream",
     "text": [
      "Average Grade: 86.6\n"
     ]
    }
   ],
   "source": [
    "grades = [85, 90, 78, 92, 88]\n",
    "total = 0\n",
    "for grade in grades:\n",
    "    total += grade  #total=total+grade\n",
    "\n",
    "average = total / len(grades)\n",
    "print(\"Average Grade:\", average)\n"
   ]
  },
  {
   "cell_type": "markdown",
   "id": "10425094",
   "metadata": {},
   "source": [
    "# Printing Patterns"
   ]
  },
  {
   "cell_type": "markdown",
   "id": "39992641",
   "metadata": {},
   "source": [
    "We require 5 things\n",
    "- Input : How many Rows\n",
    "- for loop : 1 for rows and 1 for columns\n",
    "- range(start,stop)\n",
    "- print()\n",
    "- end=\" \""
   ]
  },
  {
   "cell_type": "markdown",
   "id": "58303c9d",
   "metadata": {},
   "source": [
    "### use of end=\" \""
   ]
  },
  {
   "cell_type": "code",
   "execution_count": 17,
   "id": "1e2302ad",
   "metadata": {
    "scrolled": true
   },
   "outputs": [
    {
     "name": "stdout",
     "output_type": "stream",
     "text": [
      "hello\n",
      "hi\n"
     ]
    }
   ],
   "source": [
    "print(\"hello\")\n",
    "print(\"hi\")"
   ]
  },
  {
   "cell_type": "code",
   "execution_count": 22,
   "id": "cd0e3999",
   "metadata": {},
   "outputs": [
    {
     "name": "stdout",
     "output_type": "stream",
     "text": [
      "hello hi\n"
     ]
    }
   ],
   "source": [
    "print(\"hello\", end=\" \")\n",
    "print(\"hi\")"
   ]
  },
  {
   "cell_type": "markdown",
   "id": "b2d676a5",
   "metadata": {},
   "source": []
  },
  {
   "cell_type": "code",
   "execution_count": 53,
   "id": "8f1aeb85",
   "metadata": {},
   "outputs": [
    {
     "name": "stdout",
     "output_type": "stream",
     "text": [
      "*****\n",
      "*****\n",
      "*****\n",
      "*****\n",
      "*****\n"
     ]
    }
   ],
   "source": [
    "size = 5\n",
    "for i in range(size):\n",
    "    print(\"*\" * size)\n"
   ]
  },
  {
   "cell_type": "code",
   "execution_count": 34,
   "id": "8e7ee965",
   "metadata": {},
   "outputs": [
    {
     "name": "stdout",
     "output_type": "stream",
     "text": [
      "# # # # "
     ]
    }
   ],
   "source": [
    "print(\"#\",end=\" \")\n",
    "print(\"#\",end=\" \")\n",
    "print(\"#\",end=\" \")\n",
    "print(\"#\",end=\" \")\n",
    "\n",
    "\n"
   ]
  },
  {
   "cell_type": "code",
   "execution_count": 35,
   "id": "b3a2063c",
   "metadata": {},
   "outputs": [
    {
     "name": "stdout",
     "output_type": "stream",
     "text": [
      "# # # # "
     ]
    }
   ],
   "source": [
    "for i in range(4):\n",
    "    print(\"#\",end=\" \")\n"
   ]
  },
  {
   "cell_type": "code",
   "execution_count": 38,
   "id": "a365022f",
   "metadata": {},
   "outputs": [
    {
     "name": "stdout",
     "output_type": "stream",
     "text": [
      "# # # # \n",
      "# # # # \n",
      "# # # # \n",
      "# # # # "
     ]
    }
   ],
   "source": [
    "for i in range(4):\n",
    "    print(\"#\",end=\" \")\n",
    "print() #new line\n",
    "for i in range(4):\n",
    "    print(\"#\",end=\" \")\n",
    "print() #new line\n",
    "for i in range(4):\n",
    "    print(\"#\",end=\" \")\n",
    "print() #new line\n",
    "for i in range(4):\n",
    "    print(\"#\",end=\" \")\n"
   ]
  },
  {
   "cell_type": "code",
   "execution_count": 42,
   "id": "2a83d560",
   "metadata": {},
   "outputs": [
    {
     "name": "stdout",
     "output_type": "stream",
     "text": [
      "# # # # \n",
      "# # # # \n",
      "# # # # \n",
      "# # # # \n"
     ]
    }
   ],
   "source": [
    "for i in range(4):\n",
    "    for j in range(4):\n",
    "        print(\"#\",end=\" \")\n",
    "    print() #new line"
   ]
  },
  {
   "cell_type": "code",
   "execution_count": 2,
   "id": "790110b3",
   "metadata": {},
   "outputs": [
    {
     "name": "stdout",
     "output_type": "stream",
     "text": [
      "*\n",
      "**\n",
      "***\n",
      "****\n",
      "*****\n"
     ]
    }
   ],
   "source": [
    "for i in range(1, 6):\n",
    "    for j in range(i):\n",
    "        print(\"*\", end=\"\")\n",
    "    print()\n"
   ]
  },
  {
   "cell_type": "code",
   "execution_count": 48,
   "id": "a6044d24",
   "metadata": {
    "scrolled": true
   },
   "outputs": [
    {
     "name": "stdout",
     "output_type": "stream",
     "text": [
      "*\n",
      "**\n",
      "***\n",
      "****\n",
      "*****\n"
     ]
    }
   ],
   "source": [
    "for i in range(1, 6):\n",
    "    print(\"*\" * i)\n"
   ]
  },
  {
   "cell_type": "code",
   "execution_count": 49,
   "id": "d8bf190c",
   "metadata": {
    "scrolled": true
   },
   "outputs": [
    {
     "name": "stdout",
     "output_type": "stream",
     "text": [
      "Enter the number of rows: 5\n",
      "* \n",
      "* * \n",
      "* * * \n",
      "* * * * \n",
      "* * * * * \n",
      "* * * * * * \n"
     ]
    }
   ],
   "source": [
    "num_rows = int(input(\"Enter the number of rows: \"))\n",
    "for i in range(num_rows + 1):\n",
    "    for j in range(i+1):\n",
    "        print(\"*\", end=\" \")\n",
    "    print()   ##new line\n"
   ]
  },
  {
   "cell_type": "code",
   "execution_count": 4,
   "id": "36d7a376",
   "metadata": {},
   "outputs": [
    {
     "name": "stdout",
     "output_type": "stream",
     "text": [
      "Enter the number of rows: 4\n",
      "* * * * \n",
      "* * * \n",
      "* * \n",
      "* \n",
      "\n"
     ]
    }
   ],
   "source": [
    "num_rows = int(input(\"Enter the number of rows: \"))\n",
    "for i in range(num_rows + 1):\n",
    "    for j in range(num_rows -i):\n",
    "        print(\"*\", end=\" \")\n",
    "    print()   ##new line\n"
   ]
  },
  {
   "cell_type": "code",
   "execution_count": 3,
   "id": "8b59d79e",
   "metadata": {},
   "outputs": [
    {
     "name": "stdout",
     "output_type": "stream",
     "text": [
      "Enter the number of rows: 5\n",
      "* * * * * \n",
      "* * * * \n",
      "* * * \n",
      "* * \n",
      "* \n",
      "\n"
     ]
    }
   ],
   "source": [
    "num_rows = int(input(\"Enter the number of rows: \"))\n",
    "for i in range(num_rows + 1):\n",
    "    for j in range(num_rows -i):\n",
    "        print(\"*\", end=\" \")\n",
    "    print()   ##new line\n"
   ]
  },
  {
   "cell_type": "code",
   "execution_count": 26,
   "id": "06c023af",
   "metadata": {
    "scrolled": true
   },
   "outputs": [
    {
     "name": "stdout",
     "output_type": "stream",
     "text": [
      "1 \n",
      "2 2 \n",
      "3 3 3 \n",
      "4 4 4 4 \n"
     ]
    }
   ],
   "source": [
    "for i in range(1,5):\n",
    "    for j in range(i):\n",
    "        print(i,end=\" \")\n",
    "    print()"
   ]
  },
  {
   "cell_type": "code",
   "execution_count": 11,
   "id": "7a2bc287",
   "metadata": {},
   "outputs": [
    {
     "name": "stdout",
     "output_type": "stream",
     "text": [
      "1 1 1 \n",
      "2 2 2 2 \n",
      "3 3 3 3 3 \n",
      "4 4 4 4 4 4 \n"
     ]
    }
   ],
   "source": [
    "for i in range(1,5):\n",
    "    for j in range(i+2):\n",
    "        print(i,end=\" \")\n",
    "    print()"
   ]
  },
  {
   "cell_type": "code",
   "execution_count": 15,
   "id": "177bce6c",
   "metadata": {},
   "outputs": [
    {
     "name": "stdout",
     "output_type": "stream",
     "text": [
      "1 \n",
      "2 2 \n",
      "3 3 3 \n",
      "4 4 4 4 \n"
     ]
    }
   ],
   "source": [
    "for i in range(1,5):\n",
    "    for j in range(i):\n",
    "        print(i,end=\" \")\n",
    "    print()"
   ]
  },
  {
   "cell_type": "markdown",
   "id": "335e3571",
   "metadata": {},
   "source": [
    "# For loop with if"
   ]
  },
  {
   "cell_type": "markdown",
   "id": "a6bcaeb5",
   "metadata": {},
   "source": [
    "# 1.Even "
   ]
  },
  {
   "cell_type": "code",
   "execution_count": 55,
   "id": "7c93fa16",
   "metadata": {},
   "outputs": [
    {
     "name": "stdout",
     "output_type": "stream",
     "text": [
      "0\n",
      "2\n",
      "4\n",
      "6\n",
      "8\n",
      "10\n"
     ]
    }
   ],
   "source": [
    "for i in range(0,11):\n",
    "    if i%2==0:\n",
    "        print(i)\n",
    "    "
   ]
  },
  {
   "cell_type": "markdown",
   "id": "2b6cae5c",
   "metadata": {},
   "source": [
    "# 2.odd "
   ]
  },
  {
   "cell_type": "code",
   "execution_count": 56,
   "id": "7283eda5",
   "metadata": {},
   "outputs": [
    {
     "name": "stdout",
     "output_type": "stream",
     "text": [
      "1\n",
      "3\n",
      "5\n",
      "7\n",
      "9\n"
     ]
    }
   ],
   "source": [
    "for i in range(0,11):\n",
    "    if i%2!=0:\n",
    "        print(i)\n",
    "    "
   ]
  },
  {
   "cell_type": "code",
   "execution_count": 57,
   "id": "4c5f88e3",
   "metadata": {},
   "outputs": [
    {
     "name": "stdout",
     "output_type": "stream",
     "text": [
      "1 is odd\n",
      "2 is even\n",
      "3 is odd\n",
      "4 is even\n",
      "5 is odd\n",
      "6 is even\n",
      "7 is odd\n",
      "8 is even\n",
      "9 is odd\n",
      "10 is even\n"
     ]
    }
   ],
   "source": [
    "for num in range(1, 11):\n",
    "    if num % 2 == 0:\n",
    "        print(num, \"is even\")\n",
    "    else:\n",
    "        print(num, \"is odd\")\n"
   ]
  },
  {
   "cell_type": "markdown",
   "id": "03548360",
   "metadata": {},
   "source": [
    "# 3. Check Vowels"
   ]
  },
  {
   "cell_type": "code",
   "execution_count": 60,
   "id": "e802111f",
   "metadata": {},
   "outputs": [
    {
     "name": "stdout",
     "output_type": "stream",
     "text": [
      "e\n",
      "o\n",
      "o\n"
     ]
    }
   ],
   "source": [
    "text = \"hello world\"\n",
    "vowels = \"aeiouAEIOU\"\n",
    "for char in text:\n",
    "    if char in vowels:\n",
    "        print(char)\n",
    "    "
   ]
  },
  {
   "cell_type": "markdown",
   "id": "f0f57a3a",
   "metadata": {},
   "source": [
    "# 4.Filtering Positive numbers"
   ]
  },
  {
   "cell_type": "code",
   "execution_count": 68,
   "id": "9d0dc330",
   "metadata": {},
   "outputs": [
    {
     "name": "stdout",
     "output_type": "stream",
     "text": [
      "Positive Numbers are:\n",
      "5\n",
      "10\n",
      "7\n",
      "3\n"
     ]
    }
   ],
   "source": [
    "numbers = [5, -2, 10, -8, 7, 3]\n",
    "print(\"Positive Numbers are:\")\n",
    "for num in numbers:\n",
    "    if num > 0:\n",
    "        print(num)\n"
   ]
  },
  {
   "cell_type": "markdown",
   "id": "e9f3226e",
   "metadata": {},
   "source": [
    "# 5.Identifying Palindromes:"
   ]
  },
  {
   "cell_type": "code",
   "execution_count": 69,
   "id": "39f834e8",
   "metadata": {},
   "outputs": [
    {
     "name": "stdout",
     "output_type": "stream",
     "text": [
      "level is a palindrome\n",
      "radar is a palindrome\n"
     ]
    }
   ],
   "source": [
    "words = [\"level\", \"hello\", \"radar\", \"python\"]\n",
    "for word in words:\n",
    "    if word == word[::-1]:\n",
    "        print(word, \"is a palindrome\")\n"
   ]
  },
  {
   "cell_type": "markdown",
   "id": "4721dce1",
   "metadata": {},
   "source": [
    "# Iterating over list"
   ]
  },
  {
   "cell_type": "code",
   "execution_count": 29,
   "id": "7ace6012",
   "metadata": {},
   "outputs": [
    {
     "name": "stdout",
     "output_type": "stream",
     "text": [
      "apple\n",
      "banana\n",
      "orange\n",
      "grape\n"
     ]
    }
   ],
   "source": [
    "fruits = [\"apple\", \"banana\", \"orange\", \"grape\"]\n",
    "for fruit in fruits:\n",
    "    print(fruit)\n"
   ]
  },
  {
   "cell_type": "markdown",
   "id": "b7da3e2f",
   "metadata": {},
   "source": [
    "# Calculating Total Expenses:"
   ]
  },
  {
   "cell_type": "code",
   "execution_count": 73,
   "id": "2319a889",
   "metadata": {},
   "outputs": [
    {
     "name": "stdout",
     "output_type": "stream",
     "text": [
      "Total expenses: 115.8\n"
     ]
    }
   ],
   "source": [
    "expenses = [45.50, 12.75, 30.25, 5.00, 22.30]\n",
    "total = 0\n",
    "for expense in expenses:\n",
    "    total += expense\n",
    "print(\"Total expenses:\", total)\n"
   ]
  },
  {
   "cell_type": "markdown",
   "id": "548904de",
   "metadata": {},
   "source": [
    "# Finding Maximum and Minimum Values:"
   ]
  },
  {
   "cell_type": "code",
   "execution_count": 28,
   "id": "1bbfa0ec",
   "metadata": {},
   "outputs": [
    {
     "name": "stdout",
     "output_type": "stream",
     "text": [
      "Maximum value: 100\n",
      "Minimum value: 9\n"
     ]
    }
   ],
   "source": [
    "numbers = [25, 18, 32, 47, 12, 9,100]\n",
    "max_value = numbers[0]\n",
    "min_value = numbers[0]\n",
    "for num in numbers:\n",
    "    if num > max_value:\n",
    "        max_value = num\n",
    "    if num < min_value:\n",
    "        min_value = num\n",
    "print(\"Maximum value:\", max_value)\n",
    "print(\"Minimum value:\", min_value)\n"
   ]
  },
  {
   "cell_type": "markdown",
   "id": "d34bb1d4",
   "metadata": {},
   "source": [
    "# Searching for an Item:"
   ]
  },
  {
   "cell_type": "code",
   "execution_count": 78,
   "id": "fae47f2e",
   "metadata": {},
   "outputs": [
    {
     "name": "stdout",
     "output_type": "stream",
     "text": [
      "Enter the item you want to find: grape\n",
      "grape is in the list.\n"
     ]
    }
   ],
   "source": [
    "items = [\"apple\", \"banana\", \"orange\", \"grape\"]\n",
    "target_item = str(input(\"Enter the item you want to find: \"))\n",
    "found = False\n",
    "for item in items:\n",
    "    if item == target_item:\n",
    "        found = True\n",
    "        break\n",
    "if found:\n",
    "    print(target_item, \"is in the list.\")\n",
    "else:\n",
    "    print(target_item, \"is not in the list.\")\n"
   ]
  },
  {
   "cell_type": "markdown",
   "id": "dfa5430d",
   "metadata": {},
   "source": [
    "# Printing Elements with Specific Property:"
   ]
  },
  {
   "cell_type": "code",
   "execution_count": 79,
   "id": "9262abc2",
   "metadata": {},
   "outputs": [
    {
     "name": "stdout",
     "output_type": "stream",
     "text": [
      "Long word: banana\n",
      "Long word: orange\n",
      "Long word: watermelon\n"
     ]
    }
   ],
   "source": [
    "words = [\"apple\", \"banana\", \"orange\", \"grape\", \"watermelon\", \"kiwi\"]\n",
    "for word in words:\n",
    "    if len(word) > 5:\n",
    "        print(\"Long word:\", word)\n"
   ]
  },
  {
   "cell_type": "code",
   "execution_count": 91,
   "id": "694f40fc",
   "metadata": {},
   "outputs": [
    {
     "name": "stdout",
     "output_type": "stream",
     "text": [
      "H\n"
     ]
    }
   ],
   "source": [
    "s=\"Hello python\"\n",
    "for char in s:\n",
    "    if char==\"H\":\n",
    "        print(char)"
   ]
  },
  {
   "cell_type": "code",
   "execution_count": null,
   "id": "fd9a0b61",
   "metadata": {},
   "outputs": [],
   "source": []
  }
 ],
 "metadata": {
  "kernelspec": {
   "display_name": "Python 3 (ipykernel)",
   "language": "python",
   "name": "python3"
  },
  "language_info": {
   "codemirror_mode": {
    "name": "ipython",
    "version": 3
   },
   "file_extension": ".py",
   "mimetype": "text/x-python",
   "name": "python",
   "nbconvert_exporter": "python",
   "pygments_lexer": "ipython3",
   "version": "3.11.4"
  }
 },
 "nbformat": 4,
 "nbformat_minor": 5
}
