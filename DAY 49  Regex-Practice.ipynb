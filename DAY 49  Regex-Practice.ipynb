{
 "cells": [
  {
   "cell_type": "markdown",
   "metadata": {},
   "source": [
    "Regular Expression(Regex):- Regular Expression or Regex is a sequence of characters that defines a search patterns."
   ]
  },
  {
   "cell_type": "markdown",
   "metadata": {},
   "source": [
    "- Regex can be used to check if string contains specific search pattern i.e. text processing."
   ]
  },
  {
   "cell_type": "markdown",
   "metadata": {},
   "source": [
    "Functions in Regex:-\n",
    "\n",
    "    1)findall()= list\n",
    "    2)sub()\n",
    "    3)search()\n",
    "    4)match()\n",
    "    5)compile()\n",
    "    6)split()"
   ]
  },
  {
   "cell_type": "code",
   "execution_count": null,
   "metadata": {},
   "outputs": [],
   "source": [
    "1) findall():- findall returns a list containing all matches.\n",
    "    Syntax- re.findall(\"pattern,text\")"
   ]
  },
  {
   "cell_type": "code",
   "execution_count": 2,
   "metadata": {},
   "outputs": [],
   "source": [
    "import re"
   ]
  },
  {
   "cell_type": "code",
   "execution_count": 29,
   "metadata": {},
   "outputs": [
    {
     "name": "stdout",
     "output_type": "stream",
     "text": [
      "['9988776655', '7788776648']\n",
      "['30-05-2022']\n",
      "['30-05-2022']\n",
      "['4444 5555 6666']\n",
      "['viratkohli@gmail.com']\n"
     ]
    },
    {
     "data": {
      "text/plain": [
       "['viratkohli@gmail.com', 'chetana123@gmail.com']"
      ]
     },
     "execution_count": 29,
     "metadata": {},
     "output_type": "execute_result"
    }
   ],
   "source": [
    "import re\n",
    "text = \"\"\"My Mobile Number is : 9988776655,\n",
    "        email id is : viratkohli@gmail.com,chetana123@gmail.com\n",
    "        todays date is : 30-05-2022\n",
    "        4444 5555 6666\n",
    "        \n",
    "        Mobile Number is : 7788776648\n",
    "        \"\"\"\n",
    "mob=re.findall(\"\\d{10}\",text) # using special chara\n",
    "mob\n",
    "mob=re.findall(\"[0-9]{10}\",text)\n",
    "print(mob)\n",
    "\n",
    "date=re.findall(\"[0-9]{2}[-][0-9]{2}[-][0-9]{4}\",text)\n",
    "print(date)\n",
    "\n",
    "date1=re.findall(\"\\d{2}\\W\\d{2}\\W\\d{4}\",text)\n",
    "print(date1)\n",
    "aadhar=re.findall(\"[0-9]{4}[ ][0-9]{4}[ ][0-9]{4}\",text)\n",
    "print(aadhar)\n",
    "\n",
    "email=re.findall(\"[a-z]{2,20}[@][a-z.]{2,20}\",text)\n",
    "print(email)\n",
    "email1=re.findall(\"\\w{2,20}[@]\\D{5}[.]\\D{3}\",text)\n",
    "email1\n",
    "\n",
    "#email_id=re.findall(\"\\w{2,20}[@][a-z.]{2,20}\",text1)  "
   ]
  },
  {
   "cell_type": "code",
   "execution_count": 4,
   "metadata": {},
   "outputs": [
    {
     "data": {
      "text/plain": [
       "['30-05-2022', '29-05-2021', '31-05-2012', '30-09-2022']"
      ]
     },
     "execution_count": 4,
     "metadata": {},
     "output_type": "execute_result"
    }
   ],
   "source": [
    "import re\n",
    "text = \"\"\"My Mobile Number is : 9988776655,\n",
    "        email id is : viratkohli@gmail.com\n",
    "        todays date is : 30-05-2022\n",
    "        \n",
    "        Mobile Number is : 7788776648\n",
    "        29-05-2021\n",
    "        31-05-2012\n",
    "        30-09-2022\n",
    "        \"\"\"\n",
    "date=re.findall(\"[0-9]{2}[-][0-9]{2}[-][0-9]{4}\", text)\n",
    "date"
   ]
  },
  {
   "cell_type": "code",
   "execution_count": 60,
   "metadata": {},
   "outputs": [
    {
     "data": {
      "text/plain": [
       "['30-05-2022',\n",
       " '29-05-2021',\n",
       " '31-05-2012',\n",
       " '30-09-2022',\n",
       " '30/09/2022',\n",
       " '30.09.2022']"
      ]
     },
     "execution_count": 60,
     "metadata": {},
     "output_type": "execute_result"
    }
   ],
   "source": [
    "import re\n",
    "text = \"\"\"My Mobile Number is : 9988776655,\n",
    "        email id is : viratkohli@gmail.com\n",
    "        todays date is : 30-05-2022\n",
    "        \n",
    "        Mobile Number is : 7788776648\n",
    "        29-05-2021\n",
    "        31-05-2012\n",
    "        30-09-2022\n",
    "        30/09/2022\n",
    "        30.09.2022\n",
    "        \"\"\"\n",
    "date=re.findall(\"[0-9]{2}[-/.][0-9]{2}[-/.][0-9]{4}\",text)\n",
    "date\n"
   ]
  },
  {
   "cell_type": "code",
   "execution_count": 19,
   "metadata": {},
   "outputs": [
    {
     "name": "stdout",
     "output_type": "stream",
     "text": [
      "['ASDFG4567P', 'PjIUY3456W', 'POIUY3456A']\n"
     ]
    },
    {
     "data": {
      "text/plain": [
       "['ASDFG4567P', 'POIUY3456A']"
      ]
     },
     "execution_count": 19,
     "metadata": {},
     "output_type": "execute_result"
    }
   ],
   "source": [
    "text=\"\"\"\"PAN CARD NUMBER : ASDFG4567P\n",
    "        PAN CARD NUMBER : PjIUY3456W\n",
    "        PAN CARD NUMBER : POIUY3456A\n",
    "          \"\"\"\n",
    "pan=re.findall(\"[A-Z]{5}[0-9]{4}[A-Z]\",text)\n",
    "number=re.findall(\"\\w{5}\\d{4}\\w{1}\",text)\n",
    "print(number)\n",
    "pan"
   ]
  },
  {
   "cell_type": "code",
   "execution_count": 64,
   "metadata": {},
   "outputs": [
    {
     "data": {
      "text/plain": [
       "['viratkohli@gmail.com', 'viratkohli123@gmail.com']"
      ]
     },
     "execution_count": 64,
     "metadata": {},
     "output_type": "execute_result"
    }
   ],
   "source": [
    "import re\n",
    "text = \"\"\"My Mobile Number is : 9988776655,\n",
    "        email id is : viratkohli@gmail.com\n",
    "        email id is : viratkohli123@gmail.com\n",
    "        \n",
    "        \"\"\"\n",
    "email=re.findall(\"[a-z0-9]{2,20}[@][a-z.]{2,20}\",text)\n",
    "email\n",
    "\n",
    "\n"
   ]
  },
  {
   "cell_type": "code",
   "execution_count": 38,
   "metadata": {},
   "outputs": [
    {
     "data": {
      "text/plain": [
       "['viratkohli@gmail.com',\n",
       " 'viratkohli123@gmail.com',\n",
       " 'virat_kohli123@gmail.',\n",
       " 'virat!kohli@gmail.com',\n",
       " 'virat-kohli@vctcpune.co11.in']"
      ]
     },
     "execution_count": 38,
     "metadata": {},
     "output_type": "execute_result"
    }
   ],
   "source": [
    "text=\"\"\"email id is : viratkohli@gmail.com\n",
    "        email id is : viratkohli123@gmail.com\n",
    "        email id is : virat_kohli123@gmail.\n",
    "        email id is : virat!kohli@gmail.com\n",
    "        email id is : virat-kohli@vctcpune.co11.in\n",
    "        \"\"\"\n",
    "email=re.findall(\"[a-z0-9-!_]{2,20}[@][a-z.0-9]{2,20}\",text)\n",
    "email"
   ]
  },
  {
   "cell_type": "code",
   "execution_count": 1,
   "metadata": {},
   "outputs": [
    {
     "ename": "NameError",
     "evalue": "name 'pan_number' is not defined",
     "output_type": "error",
     "traceback": [
      "\u001b[1;31m---------------------------------------------------------------------------\u001b[0m",
      "\u001b[1;31mNameError\u001b[0m                                 Traceback (most recent call last)",
      "Cell \u001b[1;32mIn[1], line 9\u001b[0m\n\u001b[0;32m      1\u001b[0m text \u001b[38;5;241m=\u001b[39m \u001b[38;5;124m\"\"\"\u001b[39m\u001b[38;5;124m Name: Vishal Vijay Tandel.\u001b[39m\n\u001b[0;32m      2\u001b[0m \u001b[38;5;124m           PAN Number: AXCPT8626T\u001b[39m\n\u001b[0;32m      3\u001b[0m \u001b[38;5;124m           Mobile Number : 8412835885\u001b[39m\n\u001b[1;32m   (...)\u001b[0m\n\u001b[0;32m      6\u001b[0m \u001b[38;5;124m           aadhar number = 3456 1232 9876\u001b[39m\n\u001b[0;32m      7\u001b[0m \u001b[38;5;124m           \u001b[39m\u001b[38;5;124m\"\"\"\u001b[39m\n\u001b[1;32m----> 9\u001b[0m \u001b[38;5;28mprint\u001b[39m(\u001b[43mpan_number\u001b[49m)\n\u001b[0;32m     10\u001b[0m \u001b[38;5;28mprint\u001b[39m(mob_number)\n\u001b[0;32m     11\u001b[0m \u001b[38;5;28mprint\u001b[39m(date)\n",
      "\u001b[1;31mNameError\u001b[0m: name 'pan_number' is not defined"
     ]
    }
   ],
   "source": [
    "text = \"\"\" Name: Vishal Vijay Tandel.\n",
    "           PAN Number: AXCPT8626T\n",
    "           Mobile Number : 8412835885\n",
    "           DOB: 17/11/1996\n",
    "           Email id: vishaltandel19@gmail.com\n",
    "           aadhar number = 3456 1232 9876\n",
    "           \"\"\"\n",
    "\n",
    "print(pan_number)\n",
    "print(mob_number)\n",
    "print(date)\n",
    "print(email_id)\n",
    "print(aadhar_number)"
   ]
  },
  {
   "cell_type": "markdown",
   "metadata": {},
   "source": [
    "SPECIAL CHARACTERS:-"
   ]
  },
  {
   "cell_type": "code",
   "execution_count": 1,
   "metadata": {},
   "outputs": [],
   "source": [
    "text = \"\"\"My Mobile Number is : 9988776655,\n",
    "        email id is : viratkohli@gmail.com,chetana_123@gmail.com,ch@gmail.com\n",
    "        todays date is : 30-05-2022,30/02/2023\n",
    "        4444 5555 6666\n",
    "        PAN:BJJPV50R\n",
    "        \n",
    "        \n",
    "        Mobile Number is : 7788776648\n",
    "        \"\"\""
   ]
  },
  {
   "cell_type": "code",
   "execution_count": 2,
   "metadata": {},
   "outputs": [
    {
     "name": "stdout",
     "output_type": "stream",
     "text": [
      "['9988776655', '7788776648']\n",
      "['9988776655', '7788776648']\n",
      "['4444 5555 6666']\n",
      "['4444 5555 6666']\n",
      "['BJJPV50R']\n",
      "['is : 30-', 'BJJPV50R']\n",
      "['30-05-2022', '30/02/2023']\n",
      "['viratkohli@gmail.com', 'chetana_123@gmail.com', 'ch@gmail.com']\n"
     ]
    }
   ],
   "source": [
    "#We will use findall() to search pattern\n",
    "import re #Importing Regular expression module\n",
    "\n",
    "#To find Mobile no.\n",
    "mob_no=re.findall(\"[0-9]{10}\",text)  #using [0-9]{10}\n",
    "print(mob_no)\n",
    "mob=re.findall(\"\\d{10}\",text)  #using \\d\n",
    "print(mob)\n",
    "\n",
    "\n",
    "#To find Adhar card no\n",
    "adhar=re.findall(\"[0-9]{4}[ ][0-9]{4}[ ][0-9]{4}\",text)\n",
    "print(adhar)\n",
    "adhar_no=re.findall(\"\\d{4}\\s\\d{4}\\s\\d{4}\",text)  #using \\d\n",
    "print(adhar_no)\n",
    "\n",
    "\n",
    "#To find pan card no BJJPV50R\n",
    "pan=re.findall(\"[A-Z]{5}[0-9]{2}[A-Z]\",text)\n",
    "print(pan)\n",
    "pan1=re.findall(\"\\D{5}\\d{2}\\D\",text) #using Special characteers\n",
    "print(pan1)\n",
    "\n",
    "#30-05-2024\n",
    "date=re.findall(\"[0-9]{2}[/-][0-9]{2}[/-][0-9]{4}\",text)\n",
    "print(date)\n",
    "\n",
    "#emailID:viratkohli@gmail.com,chetana_123@gmail.com,ch@gmail.com\n",
    "email=re.findall(\"[a-z0-9_]{2,20}[@][a-z]{2,5}[.a-z]{4}\",text)\n",
    "print(email)"
   ]
  },
  {
   "cell_type": "code",
   "execution_count": null,
   "metadata": {},
   "outputs": [],
   "source": [
    "1) \\d:-Returns a match where string contains digit (0-9)or[0-9]"
   ]
  },
  {
   "cell_type": "code",
   "execution_count": null,
   "metadata": {},
   "outputs": [],
   "source": [
    "2)\\D:-Returns a match where string does not contains digits. Eg. spaces,special characters,letters etc[^0-9]"
   ]
  },
  {
   "cell_type": "code",
   "execution_count": null,
   "metadata": {},
   "outputs": [],
   "source": [
    "3)\\w:-Returns a match where string contains any alphanumeric character and underscore i.e.[0-9a-z_]or\\w{2,20}"
   ]
  },
  {
   "cell_type": "code",
   "execution_count": null,
   "metadata": {},
   "outputs": [],
   "source": [
    "4)\\W:-Returns a match where string does not contains any alphanumeric character and underscore i.e.[^0-9a-z_] or\\W"
   ]
  },
  {
   "cell_type": "code",
   "execution_count": null,
   "metadata": {},
   "outputs": [],
   "source": [
    "5)\\s:-Returns a match where string contains a white space characters.By default occurance is 1. for two spaces-\\s[2]"
   ]
  },
  {
   "cell_type": "code",
   "execution_count": null,
   "metadata": {},
   "outputs": [],
   "source": [
    "6)/s:-Returns a match where string does not contains space. "
   ]
  },
  {
   "cell_type": "code",
   "execution_count": null,
   "metadata": {},
   "outputs": [],
   "source": [
    "7)\\b:-Returns a match where characters are at begining or at end of word i.e. perfect match"
   ]
  },
  {
   "cell_type": "code",
   "execution_count": 4,
   "metadata": {},
   "outputs": [
    {
     "ename": "NameError",
     "evalue": "name 're' is not defined",
     "output_type": "error",
     "traceback": [
      "\u001b[1;31m---------------------------------------------------------------------------\u001b[0m",
      "\u001b[1;31mNameError\u001b[0m                                 Traceback (most recent call last)",
      "Cell \u001b[1;32mIn[4], line 2\u001b[0m\n\u001b[0;32m      1\u001b[0m s\u001b[38;5;241m=\u001b[39m\u001b[38;5;124m\"\u001b[39m\u001b[38;5;124ma12351#h\u001b[39m\u001b[38;5;124m\"\u001b[39m\n\u001b[1;32m----> 2\u001b[0m s1\u001b[38;5;241m=\u001b[39m\u001b[43mre\u001b[49m\u001b[38;5;241m.\u001b[39mfindall(\u001b[38;5;124m\"\u001b[39m\u001b[38;5;124m\"\u001b[39m,s)\n\u001b[0;32m      3\u001b[0m \u001b[38;5;28mprint\u001b[39m(s1)\n",
      "\u001b[1;31mNameError\u001b[0m: name 're' is not defined"
     ]
    }
   ],
   "source": [
    "s=\"a12351#h jgjkhgsf\"\n",
    "s1=re.findall(\"\",s)\n",
    "print(s1)"
   ]
  },
  {
   "cell_type": "markdown",
   "metadata": {},
   "source": [
    "EXAMPLES:"
   ]
  },
  {
   "cell_type": "code",
   "execution_count": 2,
   "metadata": {},
   "outputs": [
    {
     "name": "stdout",
     "output_type": "stream",
     "text": [
      "['AXCPS8626T']\n",
      "['8412835885']\n",
      "['17/11/1996']\n",
      "['vishaltandel19@gmail.com']\n",
      "['3456 1232 9876']\n",
      "['Vishal Vijay Tandel.']\n"
     ]
    }
   ],
   "source": [
    "import re\n",
    "text1 = \"\"\" Name: Vishal Vijay Tandel.\n",
    "           PAN Number: AXCPS8626T\n",
    "           Mobile Number : 8412835885\n",
    "           DOB: 17/11/1996\n",
    "           Email id: vishaltandel19@gmail.com\n",
    "           aadhar number = 3456 1232 9876\n",
    "         \"\"\"\n",
    "\n",
    "\n",
    "pan_number=re.findall(\"\\D{5}\\d{4}[A-Z]\",text1)\n",
    "mob_number=re.findall(\"\\d{10}\",text1)\n",
    "date=re.findall(\"\\d{2}[/]\\d{2}[/]\\d{4}\",text1)\n",
    "email_id=re.findall(\"\\w{2,20}[@][a-z.]{2,20}\",text1)     \n",
    "aadhar_number=re.findall(\"\\d{4}[ ]\\d{4}[ ]\\d{4}\",text1)\n",
    "name=re.findall(\"\\D{6}\\s\\D{5}\\s\\D{6}[.]\",text1)\n",
    "print(pan_number)\n",
    "print(mob_number)\n",
    "print(date)\n",
    "print(email_id)\n",
    "print(aadhar_number)\n",
    "print(name)"
   ]
  },
  {
   "cell_type": "code",
   "execution_count": 19,
   "metadata": {},
   "outputs": [
    {
     "name": "stdout",
     "output_type": "stream",
     "text": [
      "['chetana', '123', 'chetanavasa', 've']\n"
     ]
    }
   ],
   "source": [
    "text=\"\"\"chetana@123 chetanavasave\"\"\"\n",
    "s=re.findall(\"\\w{2,11}\",text)\n",
    "print(s)"
   ]
  },
  {
   "cell_type": "code",
   "execution_count": 90,
   "metadata": {},
   "outputs": [
    {
     "name": "stdout",
     "output_type": "stream",
     "text": [
      "[' ', ' ', 'D', 'O', 'B', ':', ' ', '/', '/', '\\n', ' ', ' ', ' ', ' ', ' ', ' ', ' ', ' ', ' ', ' ', ' ', 'E', 'm', 'a', 'i', 'l', ' ', 'i', 'd', ':', ' ', 'v', 'i', 's', 'h', 'a', 'l', 't', 'a', 'n', 'd', 'e', 'l', '@', 'g', 'm', 'a', 'i', 'l', '.', 'c', 'o', 'm', '\\n', ' ', ' ', ' ', ' ', ' ', ' ', ' ', ' ', ' ', ' ', ' ', 'a', 'a', 'd', 'h', 'a', 'r', ' ', 'n', 'u', 'm', 'b', 'e', 'r', ' ', '=', ' ', ' ', ' ']\n"
     ]
    }
   ],
   "source": [
    "text = \"\"\"  DOB: 17/11/1996               \n",
    "           Email id: vishaltandel19@gmail.com\n",
    "           aadhar number = 3456 1232 9876\"\"\"\n",
    "x=re.findall('\\D',text)\n",
    "print(x)"
   ]
  },
  {
   "cell_type": "code",
   "execution_count": 91,
   "metadata": {},
   "outputs": [
    {
     "name": "stdout",
     "output_type": "stream",
     "text": [
      "['Machi', 'ne le', 'arnin', 'g is ', 'a fie', 'ld of', ' inqu', 'iry d', 'evote', 'd to ', 'under', 'stand', 'ing a', 'nd bu', 'ildin', 'g\\nmet', 'hods ', 'that ', \"'lear\", \"n', t\", 'hat i', 's, me', 'thods', ' that', ' leve', 'rage ', 'data ', 'to im', 'prove', ' perf', 'orman', 'ce on', ' some', ' \\nset', ' of t', 'asks.', ' It i', 's see', 'n as ', 'a par', 't of ', 'artif', 'icial', ' inte', 'llige']\n"
     ]
    }
   ],
   "source": [
    "text = \"\"\"Machine learning is a field of inquiry devoted to understanding and building\n",
    "methods that 'learn', that is, methods that leverage data to improve performance on some \n",
    "set of tasks. It is seen as a part of artificial intelligence\"\"\"\n",
    "x=re.findall('\\D{5}',text)\n",
    "print(x)"
   ]
  },
  {
   "cell_type": "code",
   "execution_count": 41,
   "metadata": {},
   "outputs": [],
   "source": [
    "import re\n",
    "text1 = \"\"\" \n",
    "           PAN Number:   AXCPT8626T           # Valid\n",
    "           PAN NUmber2 : ERTYUPOIUY3456YQWE   # Invalid\n",
    "           LKJHG67890W                        # Invalid\n",
    "           ASDFGH6789QWERT                    # Invalid\n",
    "           AWEDF4567T                         # valid\n",
    "           WERTPLMNK9870T                     # Invalid\n",
    "           \"\"\"\n",
    "\n",
    "# pan_number = re.findall('[A-Z]{5}\\d{4}[A-Z]',text1)\n",
    "# pan_number"
   ]
  },
  {
   "cell_type": "code",
   "execution_count": null,
   "metadata": {},
   "outputs": [],
   "source": [
    "import re\n",
    "text = \"\"\" \n",
    "           PAN Number:   AXCPT8626T           # Valid\n",
    "           PAN NUmber2 : ERTYUPOIUY3456YQWE   # Invalid\n",
    "           LKJHG67890W                        # Invalid\n",
    "           ASDFGH6789QWERT                    # Invalid\n",
    "           AWEDF4567T                         # valid\n",
    "           WERTPLMNK9870T                     # Invalid\n",
    "           QSDFT4567QWERTYUIO                 # Invalid\n",
    "           \"\"\"\n",
    "           \n",
    "# pan_number=re.findall(r'\\b\\D{5}\\d{4}\\D\\b',text)\n",
    "# print(pan_number)"
   ]
  },
  {
   "cell_type": "code",
   "execution_count": null,
   "metadata": {},
   "outputs": [],
   "source": [
    "2) Sub():- Sub function is used to replace one or many matches with the string.\n",
    "        It returns the updated string text.\n",
    "        Syntax:- re.sub(pattern,new string,text)"
   ]
  },
  {
   "cell_type": "code",
   "execution_count": 37,
   "metadata": {},
   "outputs": [
    {
     "name": "stdout",
     "output_type": "stream",
     "text": [
      "Data Science is a field of inquiry devoted to understandingp 23 \n"
     ]
    }
   ],
   "source": [
    "import re\n",
    "string = \"Machine learning is a field of inquiry devoted to understandingp 23 \"\n",
    "s=re.sub(\"[A-Z]{1}\\D{6}\\s\\D{8}\",\"Data Science\",string)\n",
    "print(s)"
   ]
  },
  {
   "cell_type": "code",
   "execution_count": null,
   "metadata": {},
   "outputs": [],
   "source": [
    "3) Search():-"
   ]
  },
  {
   "cell_type": "code",
   "execution_count": 5,
   "metadata": {},
   "outputs": [],
   "source": [
    "import re\n",
    "string = \"\"\"Numbers : \n",
    "            x=987654432\n",
    "            y=8876544432343\n",
    "            z=887654abc\n",
    "            a=8876544432\"\"\"\n",
    "\n",
    "\n"
   ]
  },
  {
   "cell_type": "code",
   "execution_count": null,
   "metadata": {},
   "outputs": [],
   "source": [
    "4) match():-"
   ]
  },
  {
   "cell_type": "code",
   "execution_count": null,
   "metadata": {},
   "outputs": [],
   "source": [
    "import re\n",
    "text = \"\"\"109876544\n",
    "          887654443\n",
    "            data\n",
    "            8876544435\n",
    "\"\"\"\n",
    "\n",
    "numbers = re.match('\\d{9}',text)\n",
    "if numbers:\n",
    "    print(numbers.group())"
   ]
  },
  {
   "cell_type": "code",
   "execution_count": null,
   "metadata": {},
   "outputs": [],
   "source": [
    "5) split:-"
   ]
  },
  {
   "cell_type": "code",
   "execution_count": null,
   "metadata": {},
   "outputs": [],
   "source": [
    "string = 'python 1 and 5 data 7 science'\n"
   ]
  },
  {
   "cell_type": "code",
   "execution_count": 2,
   "metadata": {},
   "outputs": [],
   "source": [
    "set1={1,2,3,5,\"adarsh\"}\n",
    "set1.remove(1)"
   ]
  },
  {
   "cell_type": "code",
   "execution_count": 3,
   "metadata": {},
   "outputs": [
    {
     "data": {
      "text/plain": [
       "{2, 3, 5, 'adarsh'}"
      ]
     },
     "execution_count": 3,
     "metadata": {},
     "output_type": "execute_result"
    }
   ],
   "source": [
    "set1"
   ]
  },
  {
   "cell_type": "code",
   "execution_count": 4,
   "metadata": {},
   "outputs": [],
   "source": [
    "set1.discard(3)"
   ]
  },
  {
   "cell_type": "code",
   "execution_count": 5,
   "metadata": {},
   "outputs": [
    {
     "data": {
      "text/plain": [
       "{2, 5, 'adarsh'}"
      ]
     },
     "execution_count": 5,
     "metadata": {},
     "output_type": "execute_result"
    }
   ],
   "source": [
    "set1"
   ]
  },
  {
   "cell_type": "code",
   "execution_count": 6,
   "metadata": {},
   "outputs": [
    {
     "ename": "KeyError",
     "evalue": "6",
     "output_type": "error",
     "traceback": [
      "\u001b[1;31m---------------------------------------------------------------------------\u001b[0m",
      "\u001b[1;31mKeyError\u001b[0m                                  Traceback (most recent call last)",
      "Cell \u001b[1;32mIn[6], line 1\u001b[0m\n\u001b[1;32m----> 1\u001b[0m \u001b[43mset1\u001b[49m\u001b[38;5;241;43m.\u001b[39;49m\u001b[43mremove\u001b[49m\u001b[43m(\u001b[49m\u001b[38;5;241;43m6\u001b[39;49m\u001b[43m)\u001b[49m\n",
      "\u001b[1;31mKeyError\u001b[0m: 6"
     ]
    }
   ],
   "source": [
    "set1.remove(6)"
   ]
  },
  {
   "cell_type": "code",
   "execution_count": 7,
   "metadata": {},
   "outputs": [],
   "source": [
    "set1.discard(6)"
   ]
  },
  {
   "cell_type": "code",
   "execution_count": 8,
   "metadata": {},
   "outputs": [
    {
     "data": {
      "text/plain": [
       "{2, 5, 'adarsh'}"
      ]
     },
     "execution_count": 8,
     "metadata": {},
     "output_type": "execute_result"
    }
   ],
   "source": [
    "set1"
   ]
  },
  {
   "cell_type": "code",
   "execution_count": 10,
   "metadata": {},
   "outputs": [
    {
     "data": {
      "text/plain": [
       "[1, 2, 3, 5, 'adarsh', 6]"
      ]
     },
     "execution_count": 10,
     "metadata": {},
     "output_type": "execute_result"
    }
   ],
   "source": [
    "l=[1,2,3,5,\"adarsh\"]\n",
    "l.append(6)\n",
    "l"
   ]
  },
  {
   "cell_type": "code",
   "execution_count": 17,
   "metadata": {},
   "outputs": [
    {
     "data": {
      "text/plain": [
       "frozenset({1, 2, 3, 5, 6, 9, 'adarsh'})"
      ]
     },
     "execution_count": 17,
     "metadata": {},
     "output_type": "execute_result"
    }
   ],
   "source": [
    "f=frozenset(l)\n",
    "f"
   ]
  },
  {
   "cell_type": "code",
   "execution_count": 18,
   "metadata": {},
   "outputs": [
    {
     "ename": "AttributeError",
     "evalue": "'frozenset' object has no attribute 'append'",
     "output_type": "error",
     "traceback": [
      "\u001b[1;31m---------------------------------------------------------------------------\u001b[0m",
      "\u001b[1;31mAttributeError\u001b[0m                            Traceback (most recent call last)",
      "Cell \u001b[1;32mIn[18], line 1\u001b[0m\n\u001b[1;32m----> 1\u001b[0m \u001b[43mf\u001b[49m\u001b[38;5;241;43m.\u001b[39;49m\u001b[43mappend\u001b[49m(\u001b[38;5;241m10\u001b[39m)\n",
      "\u001b[1;31mAttributeError\u001b[0m: 'frozenset' object has no attribute 'append'"
     ]
    }
   ],
   "source": [
    "f.append(10)"
   ]
  },
  {
   "cell_type": "code",
   "execution_count": 16,
   "metadata": {
    "scrolled": true
   },
   "outputs": [
    {
     "data": {
      "text/plain": [
       "[1, 2, 3, 5, 'adarsh', 6, 9, 9]"
      ]
     },
     "execution_count": 16,
     "metadata": {},
     "output_type": "execute_result"
    }
   ],
   "source": [
    "l.append(9)\n",
    "l"
   ]
  },
  {
   "cell_type": "code",
   "execution_count": null,
   "metadata": {},
   "outputs": [],
   "source": []
  }
 ],
 "metadata": {
  "kernelspec": {
   "display_name": "Python 3 (ipykernel)",
   "language": "python",
   "name": "python3"
  },
  "language_info": {
   "codemirror_mode": {
    "name": "ipython",
    "version": 3
   },
   "file_extension": ".py",
   "mimetype": "text/x-python",
   "name": "python",
   "nbconvert_exporter": "python",
   "pygments_lexer": "ipython3",
   "version": "3.11.4"
  }
 },
 "nbformat": 4,
 "nbformat_minor": 4
}
