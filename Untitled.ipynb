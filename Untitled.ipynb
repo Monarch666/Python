{
 "cells": [
  {
   "cell_type": "markdown",
   "id": "94272439",
   "metadata": {},
   "source": [
    "# Public "
   ]
  },
  {
   "cell_type": "code",
   "execution_count": 25,
   "id": "a70ae8b6",
   "metadata": {},
   "outputs": [
    {
     "name": "stdout",
     "output_type": "stream",
     "text": [
      "Paneer butter masala paneer\n",
      "paneer\n"
     ]
    }
   ],
   "source": [
    "class Food:\n",
    "    name=\"Main course\"\n",
    "    def __init__(self,veg):\n",
    "        self.veg=veg\n",
    "        print(\"Paneer butter masala\",self.veg)\n",
    "    def f1(self):\n",
    "        print(self.veg)\n",
    "        \n",
    "obj1=Food(\"paneer\")\n",
    "obj1.f1()"
   ]
  },
  {
   "cell_type": "code",
   "execution_count": 7,
   "id": "cfefbfc5",
   "metadata": {},
   "outputs": [
    {
     "name": "stdout",
     "output_type": "stream",
     "text": [
      "Paneer butter masala \n",
      "Paneer butter masala \n",
      "Paneer butter masala \n",
      "\n"
     ]
    }
   ],
   "source": [
    "obj1.paneer()\n"
   ]
  },
  {
   "cell_type": "code",
   "execution_count": null,
   "id": "781be159",
   "metadata": {},
   "outputs": [],
   "source": []
  }
 ],
 "metadata": {
  "kernelspec": {
   "display_name": "Python 3 (ipykernel)",
   "language": "python",
   "name": "python3"
  },
  "language_info": {
   "codemirror_mode": {
    "name": "ipython",
    "version": 3
   },
   "file_extension": ".py",
   "mimetype": "text/x-python",
   "name": "python",
   "nbconvert_exporter": "python",
   "pygments_lexer": "ipython3",
   "version": "3.11.4"
  }
 },
 "nbformat": 4,
 "nbformat_minor": 5
}
