{
 "cells": [
  {
   "cell_type": "code",
   "execution_count": 1,
   "id": "bf60c0bc",
   "metadata": {},
   "outputs": [],
   "source": [
    "import re\n"
   ]
  },
  {
   "cell_type": "code",
   "execution_count": 2,
   "id": "14760edb",
   "metadata": {},
   "outputs": [
    {
     "data": {
      "text/plain": [
       "['9988776655', '7788776648']"
      ]
     },
     "execution_count": 2,
     "metadata": {},
     "output_type": "execute_result"
    }
   ],
   "source": [
    "import re\n",
    "text = \"\"\"My Mobile Number is : 9988776655,\n",
    "        email id is : viratkohli@gmail.com\n",
    "        todays date is : 30-05-2022\n",
    "        4444 5555 6666\n",
    "        \n",
    "        Mobile Number is : 7788776648\n",
    "        \"\"\"\n",
    "mob=re.findall('[0-9]{10}',text)\n",
    "mob"
   ]
  },
  {
   "cell_type": "code",
   "execution_count": 6,
   "id": "15606783",
   "metadata": {},
   "outputs": [
    {
     "data": {
      "text/plain": [
       "['4444 5555 6666']"
      ]
     },
     "execution_count": 6,
     "metadata": {},
     "output_type": "execute_result"
    }
   ],
   "source": [
    "adhar=re.findall(\"[0-9]{4}[ ][0-9]{4}[ ][0-9]{4}\",text)\n",
    "adhar"
   ]
  },
  {
   "cell_type": "code",
   "execution_count": 13,
   "id": "fadc25e1",
   "metadata": {},
   "outputs": [
    {
     "data": {
      "text/plain": [
       "['30-05-2022']"
      ]
     },
     "execution_count": 13,
     "metadata": {},
     "output_type": "execute_result"
    }
   ],
   "source": [
    "date=re.findall('[0-9]{2}[-][0-9]{2}[-][0-9]{4}',text)\n",
    "date"
   ]
  },
  {
   "cell_type": "code",
   "execution_count": 14,
   "id": "d5c9aac7",
   "metadata": {},
   "outputs": [
    {
     "data": {
      "text/plain": [
       "['30-05-2022', '29-05-2021', '31-05-2012', '30-09-2022']"
      ]
     },
     "execution_count": 14,
     "metadata": {},
     "output_type": "execute_result"
    }
   ],
   "source": [
    "text = \"\"\"My Mobile Number is : 9988776655,\n",
    "        email id is : viratkohli@gmail.com\n",
    "        todays date is : 30-05-2022\n",
    "        \n",
    "        Mobile Number is : 7788776648\n",
    "        29-05-2021\n",
    "        31-05-2012\n",
    "        30-09-2022\n",
    "        \"\"\"\n",
    "date=re.findall('[0-9]{2}[-][0-9]{2}[-][0-9]{4}',text)\n",
    "date"
   ]
  },
  {
   "cell_type": "code",
   "execution_count": 15,
   "id": "6318c663",
   "metadata": {},
   "outputs": [
    {
     "data": {
      "text/plain": [
       "['30-05-2022', '29-05-2021', '31-05-2012', '30-09-2022', '30/09/2022']"
      ]
     },
     "execution_count": 15,
     "metadata": {},
     "output_type": "execute_result"
    }
   ],
   "source": [
    "text = \"\"\"My Mobile Number is : 9988776655,\n",
    "        email id is : viratkohli@gmail.com\n",
    "        todays date is : 30-05-2022\n",
    "        \n",
    "        Mobile Number is : 7788776648\n",
    "        29-05-2021\n",
    "        31-05-2012\n",
    "        30-09-2022\n",
    "        30/09/2022\n",
    "        30.09.2022\n",
    "        \"\"\"\n",
    "\n",
    "date=re.findall('[0-9]{2}[-/][0-9]{2}[-/][0-9]{4}',text)\n",
    "date"
   ]
  },
  {
   "cell_type": "code",
   "execution_count": 17,
   "id": "d37e06fc",
   "metadata": {},
   "outputs": [
    {
     "data": {
      "text/plain": [
       "['30-05-2022',\n",
       " '29-05-2021',\n",
       " '31-05-2012',\n",
       " '30-09-2022',\n",
       " '30/09/2022',\n",
       " '30.09.2022']"
      ]
     },
     "execution_count": 17,
     "metadata": {},
     "output_type": "execute_result"
    }
   ],
   "source": [
    "date=re.findall('[0-9]{2}[-./][0-9]{2}[-./][0-9]{4}',text)\n",
    "date"
   ]
  },
  {
   "cell_type": "code",
   "execution_count": 18,
   "id": "d1f3671c",
   "metadata": {},
   "outputs": [
    {
     "data": {
      "text/plain": [
       "['30-05-2022',\n",
       " '29-05-2021',\n",
       " '31-05-2012',\n",
       " '30-09-2022',\n",
       " '30/09/2022',\n",
       " '30.09.2022']"
      ]
     },
     "execution_count": 18,
     "metadata": {},
     "output_type": "execute_result"
    }
   ],
   "source": [
    "date=re.findall('[0-9]{2}[-/.][0-9]{2}[-/.][0-9]{4}',text)\n",
    "date"
   ]
  },
  {
   "cell_type": "code",
   "execution_count": 20,
   "id": "5c346257",
   "metadata": {},
   "outputs": [
    {
     "data": {
      "text/plain": [
       "['ASDFG4567P', 'POIUY3456W']"
      ]
     },
     "execution_count": 20,
     "metadata": {},
     "output_type": "execute_result"
    }
   ],
   "source": [
    "text=\"\"\"\"PAN CARD NUMBER : ASDFG4567P\n",
    "        PAN CARD NUMBER : POIUY3456W\n",
    "        PAN CARD NUMBER : POIUY34567\n",
    "          \"\"\"\n",
    "pan=re.findall('[A-Z]{5}[0-9]{4}[A-Z]',text)\n",
    "pan"
   ]
  },
  {
   "cell_type": "code",
   "execution_count": 14,
   "id": "939aaf07",
   "metadata": {},
   "outputs": [
    {
     "data": {
      "text/plain": [
       "['viratkohli@gmail.com', 'viratkohli123@gmail.com']"
      ]
     },
     "execution_count": 14,
     "metadata": {},
     "output_type": "execute_result"
    }
   ],
   "source": [
    "import re\n",
    "text = \"\"\"My Mobile Number is : 9988776655,\n",
    "        email id is : viratkohli@gmail.com\n",
    "        email id is : viratkohli123@gmail.com\n",
    "        \n",
    "        \"\"\"\n",
    "email=re.findall('[a-z0-9]{2,20}[@][a-z.]{3,15}',text)\n",
    "email"
   ]
  },
  {
   "cell_type": "code",
   "execution_count": 25,
   "id": "e89478af",
   "metadata": {},
   "outputs": [
    {
     "data": {
      "text/plain": [
       "['viratkohli@gmail.com']"
      ]
     },
     "execution_count": 25,
     "metadata": {},
     "output_type": "execute_result"
    }
   ],
   "source": [
    "email_id = re.findall('[a-z]{2,20}[@][a-z.]{3,15}',text)\n",
    "email_id"
   ]
  },
  {
   "cell_type": "code",
   "execution_count": 33,
   "id": "b016ecca",
   "metadata": {},
   "outputs": [
    {
     "data": {
      "text/plain": [
       "['viratkohli@gmail.com',\n",
       " 'viratkohli123@gmail.com',\n",
       " 'virat_kohli123@gmail.com',\n",
       " 'virat-kohli@gmail.com',\n",
       " 'virat-kohli@vctcpune.co.in']"
      ]
     },
     "execution_count": 33,
     "metadata": {},
     "output_type": "execute_result"
    }
   ],
   "source": [
    " text=\"\"\"email id is : viratkohli@gmail.com\n",
    "        email id is : viratkohli123@gmail.com\n",
    "        email id is : virat_kohli123@gmail.com\n",
    "        email id is : virat-kohli@gmail.com\n",
    "        email id is : virat-kohli@vctcpune.co.in\n",
    "        \"\"\"\n",
    "    \n",
    "email=re.findall('[a-z0-9_-]{2,20}[@][a-z.]{2,20}',text)\n",
    "email"
   ]
  },
  {
   "cell_type": "code",
   "execution_count": 37,
   "id": "24a9eb99",
   "metadata": {},
   "outputs": [
    {
     "name": "stdout",
     "output_type": "stream",
     "text": [
      "['AXCPT8626T']\n",
      "['8412835885']\n",
      "['17/11/1996']\n",
      "['vishaltandel19@gmail.com']\n",
      "['3456 1232 9876']\n"
     ]
    }
   ],
   "source": [
    "import re\n",
    "text = \"\"\" Name: Vishal Vijay Tandel.\n",
    "           PAN Number: AXCPT8626T\n",
    "           Mobile Number : 8412835885\n",
    "           DOB: 17/11/1996\n",
    "           Email id: vishaltandel19@gmail.com\n",
    "           aadhar number = 3456 1232 9876\n",
    "           \"\"\"\n",
    "pan_number=re.findall('[A-Z]{5}[0-9]{4}[A-Z]',text)\n",
    "mob_number=re.findall('[0-9]{10}',text)\n",
    "date=re.findall('[0-9]{2}[/][0-9]{2}[/][0-9]{4}',text)\n",
    "email_id=re.findall('[a-z0-9]{2,20}[@][a-z.]{2,20}',text)\n",
    "aadhar_number=re.findall('[0-9]{4}[ ][0-9]{4}[ ][0-9]{4}',text)\n",
    "print(pan_number)\n",
    "print(mob_number)\n",
    "print(date)\n",
    "print(email_id)\n",
    "print(aadhar_number)"
   ]
  },
  {
   "cell_type": "code",
   "execution_count": 9,
   "id": "590242da",
   "metadata": {},
   "outputs": [
    {
     "name": "stdout",
     "output_type": "stream",
     "text": [
      "['AXCPT8626T']\n",
      "['8412835885']\n",
      "['17/11/1996']\n",
      "['vishaltandel19@gmail.com']\n",
      "['3456 1232 9876']\n"
     ]
    }
   ],
   "source": [
    "import re\n",
    "text = \"\"\" Name: Vishal Vijay Tandel.\n",
    "           PAN Number: AXCPT8626T\n",
    "           Mobile Number : 8412835885\n",
    "           DOB: 17/11/1996\n",
    "           Email id: vishaltandel19@gmail.com\n",
    "           aadhar number = 3456 1232 9876\n",
    "           \"\"\"\n",
    "pan_number=re.findall('\\D{5}\\d{4}[A-Z]',text)\n",
    "mob_number=re.findall('\\d{10}',text)\n",
    "date=re.findall('\\d{2}[/]\\d{2}[/]\\d{4}',text)\n",
    "email_id=re.findall('[a-z\\d]{2,20}[@][a-z.]{2,20}',text)\n",
    "aadhar_number=re.findall('\\d{4}[ ]\\d{4}[ ]\\d{4}',text)\n",
    "print(pan_number)\n",
    "print(mob_number)\n",
    "print(date)\n",
    "print(email_id)\n",
    "print(aadhar_number)"
   ]
  },
  {
   "cell_type": "code",
   "execution_count": 42,
   "id": "53b68f7c",
   "metadata": {},
   "outputs": [
    {
     "name": "stdout",
     "output_type": "stream",
     "text": [
      "[' ', ' ', 'D', 'O', 'B', ':', ' ', '/', '/', '\\n', ' ', ' ', ' ', ' ', ' ', ' ', ' ', ' ', ' ', ' ', ' ', 'E', 'm', 'a', 'i', 'l', ' ', 'i', 'd', ':', ' ', 'v', 'i', 's', 'h', 'a', 'l', 't', 'a', 'n', 'd', 'e', 'l', '@', 'g', 'm', 'a', 'i', 'l', '.', 'c', 'o', 'm', '\\n', ' ', ' ', ' ', ' ', ' ', ' ', ' ', ' ', ' ', ' ', ' ', 'a', 'a', 'd', 'h', 'a', 'r', ' ', 'n', 'u', 'm', 'b', 'e', 'r', ' ', '=', ' ', ' ', ' ']\n"
     ]
    }
   ],
   "source": [
    "text = \"\"\"  DOB: 17/11/1996\n",
    "           Email id: vishaltandel19@gmail.com\n",
    "           aadhar number = 3456 1232 9876\"\"\"\n",
    "x=re.findall('\\D',text)\n",
    "print(x)"
   ]
  },
  {
   "cell_type": "code",
   "execution_count": 45,
   "id": "52570ffc",
   "metadata": {},
   "outputs": [
    {
     "name": "stdout",
     "output_type": "stream",
     "text": [
      "['Machi', 'ne le', 'arnin', 'g is ', 'a fie', 'ld of', ' inqu', 'iry d', 'evote', 'd to ', 'under', 'stand', 'ing a', 'nd bu', 'ildin', 'g\\nmet', 'hods ', 'that ', \"'lear\", \"n', t\", 'hat i', 's, me', 'thods', ' that', ' leve', 'rage ', 'data ', 'to im', 'prove', ' perf', 'orman', 'ce on', ' some', ' \\nset', ' of t', 'asks.', ' It i', 's see', 'n as ', 'a par', 't of ', 'artif', 'icial', ' inte', 'llige']\n"
     ]
    }
   ],
   "source": [
    "text = \"\"\"Machine learning is a field of inquiry devoted to understanding and building\n",
    "methods that 'learn', that is, methods that leverage data to improve performance on some \n",
    "set of tasks. It is seen as a part of artificial intelligence\"\"\"\n",
    "x=re.findall('\\D{5}',text)\n",
    "print(x)"
   ]
  },
  {
   "cell_type": "code",
   "execution_count": 2,
   "id": "c7cb344c",
   "metadata": {},
   "outputs": [
    {
     "name": "stdout",
     "output_type": "stream",
     "text": [
      "PAN Number is : ['AXCPT8626T', '8412835885', 'vishaltand']\n",
      "Email ID is   : ['vishaltandel19@gmail.com']\n",
      "Date of Birth : ['17/11/1996']\n",
      "Mobile Number : ['8412835885']\n",
      "Aadhar Number : ['3456 1232 9876']\n"
     ]
    }
   ],
   "source": [
    "import re\n",
    "text = \"\"\" Name: Vishal Vijay Tandel.\n",
    "           PAN Number: AXCPT8626T\n",
    "           Mobile Number : 8412835885\n",
    "           DOB: 17/11/1996\n",
    "           Email id: vishaltandel19@gmail.com\n",
    "           aadhar number = 3456 1232 9876\n",
    "           %$*&@\n",
    "           \"\"\"\n",
    "\n",
    "pan_number = re.findall('\\w{10}',text)\n",
    "email_id = re.findall('\\w{2,20}[@][a-z.]{2,15}',text)\n",
    "dob = re.findall('\\d{2}[/]\\d{2}[/]\\d{4}',text)\n",
    "mobile_number = re.findall('\\d{10}',text)\n",
    "aadhar_no = re.findall('\\d{4}[ ]\\d{4}[ ]\\d{4}',text)\n",
    "\n",
    "print(\"PAN Number is :\",pan_number)\n",
    "print(\"Email ID is   :\",email_id)\n",
    "print(\"Date of Birth :\",dob)\n",
    "print(\"Mobile Number :\",mobile_number)\n",
    "print('Aadhar Number :',aadhar_no)\n",
    "\n"
   ]
  },
  {
   "cell_type": "code",
   "execution_count": 52,
   "id": "a69b9583",
   "metadata": {},
   "outputs": [
    {
     "name": "stdout",
     "output_type": "stream",
     "text": [
      "['M', 'a', 'c', 'h', 'i', 'n', 'e', '1', '2', '3', '4', '5', '6', '7', '8', '9', 'l', 'e', 'a', 'r', 'n', 'i', 'n', 'g', 'i', 's', 'a', 'f', 'i', 'e', 'l', 'd', 'o', 'f', 'i', 'n', 'q', 'u', 'i', 'r', 'y', 'd', 'e', 'v', 'o', 't', 'e', 'd', 't', 'o', 'u', 'n', 'd', 'e', 'r', 's', 't', 'a', 'n', 'd', 'i', 'n', 'g', 'a', 'n', 'd', 'b', 'u', 'i', 'l', 'd', 'i', 'n', 'g', 'm', 'e', 't', 'h', 'o', 'd', 's', 't', 'h', 'a', 't', 'l', 'e', 'a', 'r', 'n', 't', 'h', 'a', 't', 'i', 's', 'm', 'e', 't', 'h', 'o', 'd', 's', 't', 'h', 'a', 't', 'l', 'e', 'v', 'e', 'r', 'a', 'g', 'e', 'd', 'a', 't', 'a', 't', 'o', 'i', 'm', 'p', 'r', 'o', 'v', 'e', 'p', 'e', 'r', 'f', 'o', 'r', 'm', 'a', 'n', 'c', 'e', 'o', 'n', 's', 'o', 'm', 'e', 's', 'e', 't', 'o', 'f', 't', 'a', 's', 'k', 's', 'I', 't', 'i', 's', 's', 'e', 'e', 'n', 'a', 's', 'a', 'p', 'a', 'r', 't', 'o', 'f', 'a', 'r', 't', 'i', 'f', 'i', 'c', 'i', 'a', 'l', 'i', 'n', 't', 'e', 'l', 'l', 'i', 'g', 'e', 'n', 'c', 'e']\n"
     ]
    }
   ],
   "source": [
    "text = \"\"\"Machine 123456789 learning is a field of inquiry devoted to understanding and building\n",
    "methods that 'learn', that is, methods that leverage data to improve performance on some \n",
    "set of tasks. It is seen as a part of artificial intelligence\"\"\"\n",
    "x=re.findall('\\w',text)\n",
    "print(x)"
   ]
  },
  {
   "cell_type": "code",
   "execution_count": 57,
   "id": "f55e51c3",
   "metadata": {},
   "outputs": [
    {
     "name": "stdout",
     "output_type": "stream",
     "text": [
      "PAN Number is : ['AXCPT8626T', 'POIUY3456Y', 'KJHG67890W', 'SDFGH6789Q', 'AWEDF4567T', 'PLMNK9870T']\n"
     ]
    }
   ],
   "source": [
    "text = \"\"\" \n",
    "           PAN Number:   AXCPT8626T           # Valid\n",
    "           PAN NUmber2 : ERTYUPOIUY3456YQWE   # Invalid\n",
    "           LKJHG67890W                        # Invalid\n",
    "           ASDFGH6789QWERT                    # Invalid\n",
    "           AWEDF4567T                         # valid\n",
    "           WERTPLMNK9870T                     # Invalid\n",
    "           \"\"\"\n",
    "\n",
    "pan_number = re.findall('\\w{5}\\d{4}[A-Z]',text)\n",
    "\n",
    "\n",
    "print(\"PAN Number is :\",pan_number)\n"
   ]
  },
  {
   "cell_type": "code",
   "execution_count": 12,
   "id": "c2d34d8b",
   "metadata": {},
   "outputs": [
    {
     "name": "stdout",
     "output_type": "stream",
     "text": [
      "PAN Number is : ['AXCPT8626T', 'POIUY3456Y', 'SDFGH6789Q', 'AWEDF4567T', 'PLMNK9870T']\n"
     ]
    }
   ],
   "source": [
    "text1 = \"\"\" \n",
    "           PAN Number:   AXCPT8626T           # Valid\n",
    "           PAN NUmber2 : ERTYUPOIUY3456YQWE   # Invalid\n",
    "           LKJHG67890W                        # Invalid\n",
    "           ASDFGH6789QWERT                    # Invalid\n",
    "           AWEDF4567T                         # valid\n",
    "           WERTPLMNK9870T                     # Invalid\n",
    "           \"\"\"\n",
    "\n",
    "pan_number = re.findall('[A-Z]{5}\\d{4}[A-Z]',text1)\n",
    "\n",
    "\n",
    "print(\"PAN Number is :\",pan_number)\n"
   ]
  },
  {
   "cell_type": "code",
   "execution_count": 61,
   "id": "f23a10f1",
   "metadata": {},
   "outputs": [
    {
     "name": "stdout",
     "output_type": "stream",
     "text": [
      "['AXCPT8626T', 'AWEDF4567T']\n"
     ]
    }
   ],
   "source": [
    "text = \"\"\" \n",
    "           PAN Number:   AXCPT8626T           # Valid\n",
    "           PAN NUmber2 : ERTYUPOIUY3456YQWE   # Invalid\n",
    "           LKJHG67890W                        # Invalid\n",
    "           ASDFGH6789QWERT                    # Invalid\n",
    "           AWEDF4567T                         # valid\n",
    "           WERTPLMNK9870T                     # Invalid\n",
    "           QSDFT4567QWERTYUIO                 # Invalid\n",
    "           \"\"\"\n",
    "           \n",
    "pan_number=re.findall(r'\\b\\D{5}\\d{4}\\D\\b',text)\n",
    "print(pan_number)"
   ]
  },
  {
   "cell_type": "code",
   "execution_count": 14,
   "id": "393471b2",
   "metadata": {},
   "outputs": [
    {
     "name": "stdout",
     "output_type": "stream",
     "text": [
      "Machine   learning is a field of inquiry devoted to understanding  \n"
     ]
    }
   ],
   "source": [
    "import re\n",
    "string = \"Machine 1234 5678 learning is a field of inquiry devoted to understanding 23 \"\n",
    "result = re.sub('\\d','',string)\n",
    "print(result)"
   ]
  },
  {
   "cell_type": "code",
   "execution_count": 10,
   "id": "6c1a208d",
   "metadata": {},
   "outputs": [
    {
     "name": "stdout",
     "output_type": "stream",
     "text": [
      "8876544432\n"
     ]
    }
   ],
   "source": [
    "import re\n",
    "string = \"\"\"Numbers : \n",
    "            987654432\n",
    "            8876544432343\n",
    "            8876544\n",
    "            8876544455\"\"\"\n",
    "\n",
    "num = re.search('\\d{10}',string)\n",
    "#if num:\n",
    "print(num.group())\n",
    "#     print(num.start())\n",
    "#     print(num.end())"
   ]
  },
  {
   "cell_type": "code",
   "execution_count": 7,
   "id": "7fae73e6",
   "metadata": {},
   "outputs": [
    {
     "name": "stdout",
     "output_type": "stream",
     "text": [
      "Science\n",
      "6\n",
      "13\n"
     ]
    }
   ],
   "source": [
    "string = \"\"\"@data Science\n",
    "            8876544432\"\"\"\n",
    "\n",
    "num = re.search('Science',string)\n",
    "if num:\n",
    "    print(num.group())\n",
    "    print(num.start())\n",
    "    print(num.end())"
   ]
  },
  {
   "cell_type": "code",
   "execution_count": 16,
   "id": "c26bafa2",
   "metadata": {},
   "outputs": [
    {
     "name": "stdout",
     "output_type": "stream",
     "text": [
      "109876544\n"
     ]
    }
   ],
   "source": [
    "import re\n",
    "text = \"\"\"109876544\n",
    "          887654443\n",
    "            data\n",
    "            8876544435\n",
    "\"\"\"\n",
    "\n",
    "numbers = re.match('\\d{9}',text)\n",
    "if numbers:\n",
    "    print(numbers.group())"
   ]
  },
  {
   "cell_type": "markdown",
   "id": "494bac76",
   "metadata": {},
   "source": [
    "# Special Char"
   ]
  },
  {
   "cell_type": "code",
   "execution_count": 17,
   "id": "f3a2268d",
   "metadata": {},
   "outputs": [
    {
     "data": {
      "text/plain": [
       "'Data science is an interdisciplinary field that uses scientific methods, processes, algorithms and systems to extract knowledge and insights from noisy, structured and unstructured data, and apply knowledge from data across a broad range of application domains'"
      ]
     },
     "execution_count": 17,
     "metadata": {},
     "output_type": "execute_result"
    }
   ],
   "source": [
    "text = \"\"\"Data science is an         interdisciplinary field that uses scientific methods,\n",
    "processes,          algorithms and systems to extract knowledge and insights from noisy, \n",
    "structured and unstructured data,           and apply knowledge from data across a broad \n",
    "range of        application domains\"\"\"\n",
    "\n",
    "text=re.sub('\\s+',' ',text)\n",
    "text"
   ]
  },
  {
   "cell_type": "code",
   "execution_count": 17,
   "id": "06b82ec1",
   "metadata": {},
   "outputs": [
    {
     "data": {
      "text/plain": [
       "['python', 'python']"
      ]
     },
     "execution_count": 17,
     "metadata": {},
     "output_type": "execute_result"
    }
   ],
   "source": [
    "string = 'python and data science  pythhhon   pytttthon   python   pythhon'\n",
    "\n",
    "test=re.findall('python',string)\n",
    "test"
   ]
  },
  {
   "cell_type": "code",
   "execution_count": 18,
   "id": "23977f6c",
   "metadata": {},
   "outputs": [
    {
     "data": {
      "text/plain": [
       "['python', 'pythhhon', 'python', 'pythhon']"
      ]
     },
     "execution_count": 18,
     "metadata": {},
     "output_type": "execute_result"
    }
   ],
   "source": [
    "string = 'python and data science  pythhhon   pytttthon   python   pythhon'\n",
    "\n",
    "test=re.findall('pyth+on',string)\n",
    "test"
   ]
  },
  {
   "cell_type": "code",
   "execution_count": 19,
   "id": "02a3dd8d",
   "metadata": {},
   "outputs": [
    {
     "data": {
      "text/plain": [
       "['python', 'pythhhooooon', 'pytttthon', 'python', 'pythhon']"
      ]
     },
     "execution_count": 19,
     "metadata": {},
     "output_type": "execute_result"
    }
   ],
   "source": [
    "string = 'python and data science  pythhhooooon   pytttthon   python   pythhon'\n",
    "\n",
    "test=re.findall('pyt+h+o+n',string)\n",
    "test"
   ]
  },
  {
   "cell_type": "code",
   "execution_count": null,
   "id": "72e6d875",
   "metadata": {},
   "outputs": [],
   "source": []
  },
  {
   "cell_type": "code",
   "execution_count": 20,
   "id": "99ac5cc3",
   "metadata": {},
   "outputs": [
    {
     "data": {
      "text/plain": [
       "'Data science is an interdisciplinary field that uses scientific methods processes algorithms and systems to extract knowledge and insights from noisy structured and unstructured data and apply knowledge from data across a broad range of application domains '"
      ]
     },
     "execution_count": 20,
     "metadata": {},
     "output_type": "execute_result"
    }
   ],
   "source": [
    "text = \"\"\"Data @ science is $%&* an         interdisciplinary field that uses scientific \n",
    "methods, processes,          algorithms and systems to extract knowledge and insights from noisy, \n",
    "structured and unstructured data,           and apply knowledge from data across a broad \n",
    "range of        application domains #$%^&* \"\"\"\n",
    "\n",
    "text=re.sub('[^a-zA-Z]+', ' ',text)\n",
    "text"
   ]
  },
  {
   "cell_type": "code",
   "execution_count": 28,
   "id": "5594a7ab",
   "metadata": {},
   "outputs": [
    {
     "data": {
      "text/plain": [
       "'Data science is an interdisciplinary field that uses scientific methods processes 23456789 algorithms and systems to extract knowledge and insights from noisy structured and unstructured data and apply knowledge from data across a broad range of application domains '"
      ]
     },
     "execution_count": 28,
     "metadata": {},
     "output_type": "execute_result"
    }
   ],
   "source": [
    "text = \"\"\"Data @ science is $%&* an         interdisciplinary field that uses scientific \n",
    "methods, processes,    23456789      algorithms and systems to extract knowledge and insights from noisy, \n",
    "structured and unstructured data,           and apply knowledge from data across a broad \n",
    "range of        application domains #$%^&* \"\"\"\n",
    "\n",
    "text=re.sub('[^a-zA-Z0-9]+','',text)\n",
    "text"
   ]
  },
  {
   "cell_type": "code",
   "execution_count": 30,
   "id": "c251cb0a",
   "metadata": {},
   "outputs": [
    {
     "data": {
      "text/plain": [
       "'Data science is an interdisciplinary field that uses scientific methods, processes, 23456789 algorithms and systems to extract knowledge and insights from noisy, structured and unstructured data, and apply knowledge from data across a broad range of application domains '"
      ]
     },
     "execution_count": 30,
     "metadata": {},
     "output_type": "execute_result"
    }
   ],
   "source": [
    "text = \"\"\"Data @ science is $%&* an         interdisciplinary field that uses scientific \n",
    "methods, processes,    23456789      algorithms and systems to extract knowledge and insights from noisy, \n",
    "structured and unstructured data,           and apply knowledge from data across a broad \n",
    "range of        application domains #$%^&* \"\"\"\n",
    "\n",
    "text=re.sub('[^a-zA-Z0-9,]+',' ',text)\n",
    "text"
   ]
  },
  {
   "cell_type": "code",
   "execution_count": 33,
   "id": "655ab463",
   "metadata": {},
   "outputs": [
    {
     "data": {
      "text/plain": [
       "'Data science is an interdisciplinary field that uses scientific methods, processes, 23456789 algorithms and systems to extract knowledge and insights from noisy, structured and unstructured data, and apply knowledge from data across a broad range of application domains '"
      ]
     },
     "execution_count": 33,
     "metadata": {},
     "output_type": "execute_result"
    }
   ],
   "source": [
    "text = \"\"\"Data @ science is $%&* an         interdisciplinary field that uses scientific \n",
    "methods, processes,    23456789      algorithms and systems to extract knowledge and insights from noisy, \n",
    "structured and unstructured data,           and apply knowledge from data across a broad \n",
    "range of        application domains #$%^&* \"\"\"\n",
    "\n",
    "text=re.sub('[^\\w,]+',\" \",text)\n",
    "text"
   ]
  },
  {
   "cell_type": "code",
   "execution_count": 34,
   "id": "5ccca4c5",
   "metadata": {},
   "outputs": [
    {
     "data": {
      "text/plain": [
       "'Data science is an interdisciplinary field that uses scientific methods processes 23456789 algorithms and systems to extract knowledge and insights from noisy structured and unstructured data and apply knowledge from data across a broad range of application domains '"
      ]
     },
     "execution_count": 34,
     "metadata": {},
     "output_type": "execute_result"
    }
   ],
   "source": [
    "text = \"\"\"Data @ science is $%&* an         interdisciplinary field that uses scientific \n",
    "methods, processes,    23456789      algorithms and systems to extract knowledge and insights from noisy, \n",
    "structured and unstructured data,           and apply knowledge from data across a broad \n",
    "range of        application domains #$%^&* \"\"\"\n",
    "\n",
    "text=re.sub('[\\W,]+',\" \",text)\n",
    "text"
   ]
  },
  {
   "cell_type": "code",
   "execution_count": 35,
   "id": "7e2e5615",
   "metadata": {},
   "outputs": [
    {
     "data": {
      "text/plain": [
       "['python', 'pythhhon', 'pytttthon', 'python', 'pythhon', 'pyhon']"
      ]
     },
     "execution_count": 35,
     "metadata": {},
     "output_type": "execute_result"
    }
   ],
   "source": [
    "string = 'python and data science  pythhhon   pytttthon   python   pythhon pyhon pyton'\n",
    "result = re.findall('pyt*h+on',string)\n",
    "result # python , pythhhon python pythhon pyton"
   ]
  },
  {
   "cell_type": "code",
   "execution_count": 36,
   "id": "9b51f229",
   "metadata": {},
   "outputs": [
    {
     "data": {
      "text/plain": [
       "['python and data science']"
      ]
     },
     "execution_count": 36,
     "metadata": {},
     "output_type": "execute_result"
    }
   ],
   "source": [
    "string = 'python and data science'\n",
    "result = re.findall('p.+',string)\n",
    "result "
   ]
  },
  {
   "cell_type": "code",
   "execution_count": 37,
   "id": "ff93dcf6",
   "metadata": {},
   "outputs": [
    {
     "name": "stdout",
     "output_type": "stream",
     "text": [
      "['science']\n"
     ]
    }
   ],
   "source": [
    "string = 'python and data science'\n",
    "result = re.findall('[a-zA-Z]+$',string)\n",
    "print(result)"
   ]
  },
  {
   "cell_type": "code",
   "execution_count": 14,
   "id": "86982afb",
   "metadata": {},
   "outputs": [
    {
     "name": "stdout",
     "output_type": "stream",
     "text": [
      "['Python and data science']\n"
     ]
    }
   ],
   "source": [
    "string = 'Python and data science'\n",
    "result = re.findall('^P.+e$',string)\n",
    "print(result)"
   ]
  },
  {
   "cell_type": "code",
   "execution_count": 42,
   "id": "6782537c",
   "metadata": {},
   "outputs": [
    {
     "name": "stdout",
     "output_type": "stream",
     "text": [
      "['01-06-2022', '01/06/2022', '01 Jun 2022', '03 Apr 2022']\n"
     ]
    }
   ],
   "source": [
    "string = \"\"\"01-06-2022\n",
    "            01/06/2022  \n",
    "            01 Jun 2022\n",
    "            03 Apr 2022\n",
    "\"\"\"\n",
    "date = re.findall('\\d{2}[/-]\\d{2}[/-]\\d{4}|\\d{2}\\s[a-zA-Z]{3}\\s\\d{4}',string)\n",
    "print(date)"
   ]
  },
  {
   "cell_type": "code",
   "execution_count": 41,
   "id": "b3375fb8",
   "metadata": {},
   "outputs": [
    {
     "name": "stdout",
     "output_type": "stream",
     "text": [
      "['python', 'science']\n"
     ]
    }
   ],
   "source": [
    "string = 'python and data science'\n",
    "result = re.findall('python|science',string)\n",
    "print(result)"
   ]
  },
  {
   "cell_type": "code",
   "execution_count": 40,
   "id": "4fabaf26",
   "metadata": {},
   "outputs": [
    {
     "name": "stdout",
     "output_type": "stream",
     "text": [
      "['01-06-2022']\n"
     ]
    }
   ],
   "source": [
    "string = \"\"\"01-06-2022\n",
    "            91/06/2022  \n",
    "            51-06-8022\n",
    "            51-06-1022\n",
    "            21-26-1022\n",
    "            21-76-1022\n",
    "\"\"\"\n",
    "\n",
    "date = re.findall('[0-3][0-9][/-][01][0-9][/-]\\d{4}',string)\n",
    "print(date)"
   ]
  },
  {
   "cell_type": "code",
   "execution_count": 44,
   "id": "3fcda2ba",
   "metadata": {},
   "outputs": [
    {
     "data": {
      "text/plain": [
       "['python 1 and ', ' data 7 science']"
      ]
     },
     "execution_count": 44,
     "metadata": {},
     "output_type": "execute_result"
    }
   ],
   "source": [
    "string = 'python 1 and 5 data 7 science'\n",
    "string.split('5')"
   ]
  },
  {
   "cell_type": "code",
   "execution_count": 45,
   "id": "d22a486d",
   "metadata": {},
   "outputs": [
    {
     "data": {
      "text/plain": [
       "['python ', ' and ', ' data ', ' science']"
      ]
     },
     "execution_count": 45,
     "metadata": {},
     "output_type": "execute_result"
    }
   ],
   "source": [
    "string = 'python 1 and 5 data 7 science'\n",
    "result = re.split('\\d',string)\n",
    "result"
   ]
  },
  {
   "cell_type": "code",
   "execution_count": 46,
   "id": "98f508d2",
   "metadata": {},
   "outputs": [
    {
     "data": {
      "text/plain": [
       "['99', '33', '44', '76', '12-45-98-78']"
      ]
     },
     "execution_count": 46,
     "metadata": {},
     "output_type": "execute_result"
    }
   ],
   "source": [
    "text = '99,33,44,76,12-45-98-78'\n",
    "text.split(',')"
   ]
  },
  {
   "cell_type": "code",
   "execution_count": 43,
   "id": "114622fc",
   "metadata": {},
   "outputs": [
    {
     "data": {
      "text/plain": [
       "['99', '33', '44', '76', '12', '45', '98', '78']"
      ]
     },
     "execution_count": 43,
     "metadata": {},
     "output_type": "execute_result"
    }
   ],
   "source": [
    "text = '99,33,44,76,12-45-98-78'\n",
    "re.split(',|-',text)"
   ]
  },
  {
   "cell_type": "code",
   "execution_count": null,
   "id": "34928796",
   "metadata": {},
   "outputs": [],
   "source": []
  }
 ],
 "metadata": {
  "kernelspec": {
   "display_name": "Python 3 (ipykernel)",
   "language": "python",
   "name": "python3"
  },
  "language_info": {
   "codemirror_mode": {
    "name": "ipython",
    "version": 3
   },
   "file_extension": ".py",
   "mimetype": "text/x-python",
   "name": "python",
   "nbconvert_exporter": "python",
   "pygments_lexer": "ipython3",
   "version": "3.11.4"
  }
 },
 "nbformat": 4,
 "nbformat_minor": 5
}
