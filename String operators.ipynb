{
 "cells": [
  {
   "cell_type": "markdown",
   "id": "2e411b19",
   "metadata": {},
   "source": [
    "# string operators"
   ]
  },
  {
   "cell_type": "markdown",
   "id": "40601d0b",
   "metadata": {},
   "source": [
    "+ operator"
   ]
  },
  {
   "cell_type": "code",
   "execution_count": 13,
   "id": "16991f9f",
   "metadata": {
    "scrolled": true
   },
   "outputs": [
    {
     "name": "stdout",
     "output_type": "stream",
     "text": [
      "I  am hungry!!!\n"
     ]
    }
   ],
   "source": [
    "a=\"I \"\n",
    "b=\"am\"\n",
    "c=\"hungry\"\n",
    "print(a + \" \" + b + \" \" + c + \"!!!\")"
   ]
  },
  {
   "cell_type": "markdown",
   "id": "35cd7d54",
   "metadata": {},
   "source": [
    "###  * operator"
   ]
  },
  {
   "cell_type": "code",
   "execution_count": 11,
   "id": "d819e328",
   "metadata": {},
   "outputs": [
    {
     "name": "stdout",
     "output_type": "stream",
     "text": [
      "I I I I \n"
     ]
    }
   ],
   "source": [
    "print (a*4)"
   ]
  },
  {
   "cell_type": "markdown",
   "id": "aedddd60",
   "metadata": {},
   "source": [
    "### in operator"
   ]
  },
  {
   "cell_type": "code",
   "execution_count": 14,
   "id": "14e66079",
   "metadata": {},
   "outputs": [
    {
     "name": "stdout",
     "output_type": "stream",
     "text": [
      "False\n"
     ]
    }
   ],
   "source": [
    "a=\"This is sparta\"\n",
    "b=\"sparta\"\n",
    "print(a in b)"
   ]
  },
  {
   "cell_type": "code",
   "execution_count": 15,
   "id": "9d321da3",
   "metadata": {},
   "outputs": [
    {
     "name": "stdout",
     "output_type": "stream",
     "text": [
      "False\n"
     ]
    }
   ],
   "source": [
    "print(b not in a)"
   ]
  },
  {
   "cell_type": "code",
   "execution_count": 16,
   "id": "18a6cf23",
   "metadata": {},
   "outputs": [
    {
     "name": "stdout",
     "output_type": "stream",
     "text": [
      "True\n"
     ]
    }
   ],
   "source": [
    "print (a not in b)"
   ]
  },
  {
   "cell_type": "code",
   "execution_count": 17,
   "id": "3cfbb46f",
   "metadata": {},
   "outputs": [
    {
     "name": "stdout",
     "output_type": "stream",
     "text": [
      "True\n"
     ]
    }
   ],
   "source": [
    "print(b in a)"
   ]
  },
  {
   "cell_type": "markdown",
   "id": "73449bc9",
   "metadata": {},
   "source": [
    "### Replace"
   ]
  },
  {
   "cell_type": "code",
   "execution_count": 18,
   "id": "ccc37899",
   "metadata": {},
   "outputs": [
    {
     "data": {
      "text/plain": [
       "'This is India'"
      ]
     },
     "execution_count": 18,
     "metadata": {},
     "output_type": "execute_result"
    }
   ],
   "source": [
    "a=\"This is sparta\"\n",
    "b= \"India\"\n",
    "a.replace(\"sparta\",b)"
   ]
  },
  {
   "cell_type": "code",
   "execution_count": 19,
   "id": "0e21c7cf",
   "metadata": {},
   "outputs": [
    {
     "data": {
      "text/plain": [
       "'This is sparta'"
      ]
     },
     "execution_count": 19,
     "metadata": {},
     "output_type": "execute_result"
    }
   ],
   "source": [
    "b.replace(\"India\",a)"
   ]
  },
  {
   "cell_type": "markdown",
   "id": "c7fb613f",
   "metadata": {},
   "source": [
    "### Uppercase"
   ]
  },
  {
   "cell_type": "code",
   "execution_count": 20,
   "id": "7e74d2b5",
   "metadata": {},
   "outputs": [
    {
     "data": {
      "text/plain": [
       "'THIS IS SPARTA'"
      ]
     },
     "execution_count": 20,
     "metadata": {},
     "output_type": "execute_result"
    }
   ],
   "source": [
    "a=\"This is Sparta\"\n",
    "a.upper()"
   ]
  },
  {
   "cell_type": "markdown",
   "id": "570fcef2",
   "metadata": {},
   "source": [
    "### Lowercase"
   ]
  },
  {
   "cell_type": "code",
   "execution_count": 21,
   "id": "eac4eeb9",
   "metadata": {},
   "outputs": [
    {
     "data": {
      "text/plain": [
       "'this is sparta'"
      ]
     },
     "execution_count": 21,
     "metadata": {},
     "output_type": "execute_result"
    }
   ],
   "source": [
    "a.lower()"
   ]
  },
  {
   "cell_type": "markdown",
   "id": "a9e6a1aa",
   "metadata": {},
   "source": [
    "### Count"
   ]
  },
  {
   "cell_type": "code",
   "execution_count": 25,
   "id": "84c3d6c5",
   "metadata": {},
   "outputs": [
    {
     "data": {
      "text/plain": [
       "2"
      ]
     },
     "execution_count": 25,
     "metadata": {},
     "output_type": "execute_result"
    }
   ],
   "source": [
    "a.count(\"i\")"
   ]
  },
  {
   "cell_type": "code",
   "execution_count": 24,
   "id": "0985eb33",
   "metadata": {},
   "outputs": [
    {
     "ename": "AttributeError",
     "evalue": "'str' object has no attribute 'length'",
     "output_type": "error",
     "traceback": [
      "\u001b[1;31m---------------------------------------------------------------------------\u001b[0m",
      "\u001b[1;31mAttributeError\u001b[0m                            Traceback (most recent call last)",
      "Cell \u001b[1;32mIn[24], line 1\u001b[0m\n\u001b[1;32m----> 1\u001b[0m a\u001b[38;5;241m.\u001b[39mlength()\n",
      "\u001b[1;31mAttributeError\u001b[0m: 'str' object has no attribute 'length'"
     ]
    }
   ],
   "source": [
    "a.length()"
   ]
  },
  {
   "cell_type": "markdown",
   "id": "204a5a89",
   "metadata": {},
   "source": [
    "### Capitalize"
   ]
  },
  {
   "cell_type": "code",
   "execution_count": 31,
   "id": "2d24d891",
   "metadata": {},
   "outputs": [
    {
     "data": {
      "text/plain": [
       "'This is sparta'"
      ]
     },
     "execution_count": 31,
     "metadata": {},
     "output_type": "execute_result"
    }
   ],
   "source": [
    "a=\"this is sparta\"\n",
    "a.capitalize()"
   ]
  },
  {
   "cell_type": "markdown",
   "id": "520f049c",
   "metadata": {},
   "source": [
    "### Title"
   ]
  },
  {
   "cell_type": "code",
   "execution_count": 32,
   "id": "2d4010fc",
   "metadata": {},
   "outputs": [
    {
     "data": {
      "text/plain": [
       "'This Is Sparta'"
      ]
     },
     "execution_count": 32,
     "metadata": {},
     "output_type": "execute_result"
    }
   ],
   "source": [
    "a.title()"
   ]
  },
  {
   "cell_type": "code",
   "execution_count": 33,
   "id": "e6efff19",
   "metadata": {},
   "outputs": [
    {
     "data": {
      "text/plain": [
       "'This is sparta.this is the end'"
      ]
     },
     "execution_count": 33,
     "metadata": {},
     "output_type": "execute_result"
    }
   ],
   "source": [
    "a=\"this is sparta.this is the end\"\n",
    "a.capitalize()"
   ]
  },
  {
   "cell_type": "markdown",
   "id": "eb30ab92",
   "metadata": {},
   "source": [
    "# Boolean string functions"
   ]
  },
  {
   "cell_type": "markdown",
   "id": "39fa500f",
   "metadata": {},
   "source": [
    "### startswith"
   ]
  },
  {
   "cell_type": "code",
   "execution_count": 37,
   "id": "859bd412",
   "metadata": {},
   "outputs": [
    {
     "data": {
      "text/plain": [
       "False"
      ]
     },
     "execution_count": 37,
     "metadata": {},
     "output_type": "execute_result"
    }
   ],
   "source": [
    "a=\"We will rock you\"\n",
    "a.startswith(\" \")"
   ]
  },
  {
   "cell_type": "code",
   "execution_count": 38,
   "id": "e72a8a0c",
   "metadata": {
    "scrolled": true
   },
   "outputs": [
    {
     "data": {
      "text/plain": [
       "True"
      ]
     },
     "execution_count": 38,
     "metadata": {},
     "output_type": "execute_result"
    }
   ],
   "source": [
    "a.startswith(\"W\")"
   ]
  },
  {
   "cell_type": "markdown",
   "id": "e33b8647",
   "metadata": {},
   "source": [
    "### Endswith"
   ]
  },
  {
   "cell_type": "code",
   "execution_count": 39,
   "id": "78e3b94d",
   "metadata": {},
   "outputs": [
    {
     "data": {
      "text/plain": [
       "False"
      ]
     },
     "execution_count": 39,
     "metadata": {},
     "output_type": "execute_result"
    }
   ],
   "source": [
    "a.endswith(\"h\")"
   ]
  },
  {
   "cell_type": "code",
   "execution_count": 40,
   "id": "9626b7f8",
   "metadata": {},
   "outputs": [
    {
     "data": {
      "text/plain": [
       "True"
      ]
     },
     "execution_count": 40,
     "metadata": {},
     "output_type": "execute_result"
    }
   ],
   "source": [
    "a.endswith(\"u\")"
   ]
  },
  {
   "cell_type": "markdown",
   "id": "6736e668",
   "metadata": {},
   "source": [
    "### isalpha"
   ]
  },
  {
   "cell_type": "code",
   "execution_count": 41,
   "id": "f2f11e8f",
   "metadata": {},
   "outputs": [
    {
     "data": {
      "text/plain": [
       "False"
      ]
     },
     "execution_count": 41,
     "metadata": {},
     "output_type": "execute_result"
    }
   ],
   "source": [
    "a.isalpha()"
   ]
  },
  {
   "cell_type": "code",
   "execution_count": 43,
   "id": "02db8c81",
   "metadata": {},
   "outputs": [
    {
     "data": {
      "text/plain": [
       "True"
      ]
     },
     "execution_count": 43,
     "metadata": {},
     "output_type": "execute_result"
    }
   ],
   "source": [
    "a=\"sjhgfcsgfv\"\n",
    "a.isalpha()"
   ]
  },
  {
   "cell_type": "markdown",
   "id": "b9e5e1c9",
   "metadata": {},
   "source": [
    "### isalnum"
   ]
  },
  {
   "cell_type": "code",
   "execution_count": 44,
   "id": "5471fecd",
   "metadata": {},
   "outputs": [
    {
     "data": {
      "text/plain": [
       "True"
      ]
     },
     "execution_count": 44,
     "metadata": {},
     "output_type": "execute_result"
    }
   ],
   "source": [
    "a=\"465481\"\n",
    "a.isalnum()"
   ]
  },
  {
   "cell_type": "code",
   "execution_count": 45,
   "id": "bbbe1042",
   "metadata": {},
   "outputs": [
    {
     "data": {
      "text/plain": [
       "False"
      ]
     },
     "execution_count": 45,
     "metadata": {},
     "output_type": "execute_result"
    }
   ],
   "source": [
    "a=\"1541 3151111\"\n",
    "a.isalnum()"
   ]
  },
  {
   "cell_type": "markdown",
   "id": "11abc3e7",
   "metadata": {},
   "source": [
    "### isupper"
   ]
  },
  {
   "cell_type": "code",
   "execution_count": 46,
   "id": "f66c3ee1",
   "metadata": {},
   "outputs": [
    {
     "data": {
      "text/plain": [
       "False"
      ]
     },
     "execution_count": 46,
     "metadata": {},
     "output_type": "execute_result"
    }
   ],
   "source": [
    "a=\"redgear cloaking headset\"\n",
    "a.isupper()"
   ]
  },
  {
   "cell_type": "code",
   "execution_count": 47,
   "id": "7359d113",
   "metadata": {},
   "outputs": [
    {
     "data": {
      "text/plain": [
       "'Redgear Cloaking Headset'"
      ]
     },
     "execution_count": 47,
     "metadata": {},
     "output_type": "execute_result"
    }
   ],
   "source": [
    "a.title()"
   ]
  },
  {
   "cell_type": "code",
   "execution_count": 48,
   "id": "cf902e8e",
   "metadata": {},
   "outputs": [
    {
     "data": {
      "text/plain": [
       "<function str.isupper()>"
      ]
     },
     "execution_count": 48,
     "metadata": {},
     "output_type": "execute_result"
    }
   ],
   "source": [
    "a.isupper"
   ]
  },
  {
   "cell_type": "code",
   "execution_count": 49,
   "id": "2ca26017",
   "metadata": {},
   "outputs": [
    {
     "data": {
      "text/plain": [
       "False"
      ]
     },
     "execution_count": 49,
     "metadata": {},
     "output_type": "execute_result"
    }
   ],
   "source": [
    "a.isupper()"
   ]
  },
  {
   "cell_type": "code",
   "execution_count": 50,
   "id": "c006dbc7",
   "metadata": {},
   "outputs": [
    {
     "ename": "AttributeError",
     "evalue": "'str' object has no attribute 'capitilize'",
     "output_type": "error",
     "traceback": [
      "\u001b[1;31m---------------------------------------------------------------------------\u001b[0m",
      "\u001b[1;31mAttributeError\u001b[0m                            Traceback (most recent call last)",
      "Cell \u001b[1;32mIn[50], line 1\u001b[0m\n\u001b[1;32m----> 1\u001b[0m a\u001b[38;5;241m.\u001b[39mcapitilize()\n",
      "\u001b[1;31mAttributeError\u001b[0m: 'str' object has no attribute 'capitilize'"
     ]
    }
   ],
   "source": [
    "a.capitilize()"
   ]
  },
  {
   "cell_type": "code",
   "execution_count": 51,
   "id": "4889edee",
   "metadata": {},
   "outputs": [
    {
     "data": {
      "text/plain": [
       "'Redgear cloaking headset'"
      ]
     },
     "execution_count": 51,
     "metadata": {},
     "output_type": "execute_result"
    }
   ],
   "source": [
    "a.capitalize()"
   ]
  },
  {
   "cell_type": "code",
   "execution_count": 58,
   "id": "98a4dd4b",
   "metadata": {},
   "outputs": [],
   "source": [
    "y=a.upper()"
   ]
  },
  {
   "cell_type": "code",
   "execution_count": 53,
   "id": "14ee9ade",
   "metadata": {},
   "outputs": [
    {
     "data": {
      "text/plain": [
       "'REDGEAR CLOAKING HEADSET'"
      ]
     },
     "execution_count": 53,
     "metadata": {},
     "output_type": "execute_result"
    }
   ],
   "source": [
    "a.upper()"
   ]
  },
  {
   "cell_type": "code",
   "execution_count": 54,
   "id": "187dc8d5",
   "metadata": {},
   "outputs": [
    {
     "data": {
      "text/plain": [
       "<function str.isupper()>"
      ]
     },
     "execution_count": 54,
     "metadata": {},
     "output_type": "execute_result"
    }
   ],
   "source": [
    "a.isupper"
   ]
  },
  {
   "cell_type": "code",
   "execution_count": 59,
   "id": "5081b9cd",
   "metadata": {},
   "outputs": [
    {
     "data": {
      "text/plain": [
       "True"
      ]
     },
     "execution_count": 59,
     "metadata": {},
     "output_type": "execute_result"
    }
   ],
   "source": [
    "y.isupper()"
   ]
  },
  {
   "cell_type": "markdown",
   "id": "e968f289",
   "metadata": {},
   "source": [
    "### islower"
   ]
  },
  {
   "cell_type": "code",
   "execution_count": 60,
   "id": "25e8a9e9",
   "metadata": {},
   "outputs": [
    {
     "data": {
      "text/plain": [
       "False"
      ]
     },
     "execution_count": 60,
     "metadata": {},
     "output_type": "execute_result"
    }
   ],
   "source": [
    "y.islower()"
   ]
  },
  {
   "cell_type": "code",
   "execution_count": 61,
   "id": "a5579f03",
   "metadata": {},
   "outputs": [
    {
     "data": {
      "text/plain": [
       "True"
      ]
     },
     "execution_count": 61,
     "metadata": {},
     "output_type": "execute_result"
    }
   ],
   "source": [
    "a.islower()"
   ]
  },
  {
   "cell_type": "markdown",
   "id": "dd8aecd6",
   "metadata": {},
   "source": [
    "### isspace"
   ]
  },
  {
   "cell_type": "code",
   "execution_count": 62,
   "id": "bebd2dae",
   "metadata": {},
   "outputs": [
    {
     "data": {
      "text/plain": [
       "False"
      ]
     },
     "execution_count": 62,
     "metadata": {},
     "output_type": "execute_result"
    }
   ],
   "source": [
    "a.isspace()"
   ]
  },
  {
   "cell_type": "code",
   "execution_count": 63,
   "id": "5442cb0d",
   "metadata": {},
   "outputs": [
    {
     "data": {
      "text/plain": [
       "False"
      ]
     },
     "execution_count": 63,
     "metadata": {},
     "output_type": "execute_result"
    }
   ],
   "source": [
    "a=\"vfjhfufhf\"\n",
    "a.isspace()"
   ]
  },
  {
   "cell_type": "code",
   "execution_count": 64,
   "id": "7ff8830b",
   "metadata": {},
   "outputs": [
    {
     "data": {
      "text/plain": [
       "True"
      ]
     },
     "execution_count": 64,
     "metadata": {},
     "output_type": "execute_result"
    }
   ],
   "source": [
    "a=\"   \"\n",
    "a.isspace()"
   ]
  },
  {
   "cell_type": "markdown",
   "id": "3212ac8a",
   "metadata": {},
   "source": [
    "### isdigit"
   ]
  },
  {
   "cell_type": "code",
   "execution_count": 65,
   "id": "5239b3c0",
   "metadata": {},
   "outputs": [
    {
     "data": {
      "text/plain": [
       "True"
      ]
     },
     "execution_count": 65,
     "metadata": {},
     "output_type": "execute_result"
    }
   ],
   "source": [
    "a=\"54684474\"\n",
    "a.isdigit()"
   ]
  },
  {
   "cell_type": "code",
   "execution_count": null,
   "id": "3bedd657",
   "metadata": {},
   "outputs": [],
   "source": []
  }
 ],
 "metadata": {
  "kernelspec": {
   "display_name": "Python 3 (ipykernel)",
   "language": "python",
   "name": "python3"
  },
  "language_info": {
   "codemirror_mode": {
    "name": "ipython",
    "version": 3
   },
   "file_extension": ".py",
   "mimetype": "text/x-python",
   "name": "python",
   "nbconvert_exporter": "python",
   "pygments_lexer": "ipython3",
   "version": "3.11.3"
  }
 },
 "nbformat": 4,
 "nbformat_minor": 5
}
