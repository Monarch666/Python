{
 "cells": [
  {
   "cell_type": "code",
   "execution_count": 2,
   "id": "709ce11c",
   "metadata": {
    "scrolled": true
   },
   "outputs": [
    {
     "name": "stdout",
     "output_type": "stream",
     "text": [
      "Enter length of rectangle=2\n",
      "Enter width of rectangle=2\n",
      "Area of rectangle= 4\n"
     ]
    }
   ],
   "source": [
    "a=int(input(\"Enter length of rectangle=\"))\n",
    "b=int(input(\"Enter width of rectangle=\"))\n",
    "c= a*b\n",
    "print(\"Area of rectangle=\",c)"
   ]
  },
  {
   "cell_type": "markdown",
   "id": "b066b722",
   "metadata": {},
   "source": [
    "# Area of circle\n"
   ]
  },
  {
   "cell_type": "code",
   "execution_count": 4,
   "id": "7725d515",
   "metadata": {},
   "outputs": [
    {
     "name": "stdout",
     "output_type": "stream",
     "text": [
      "Enter radius of circle=6\n",
      "Area of circle= 113.04\n"
     ]
    }
   ],
   "source": [
    "r=int(input(\"Enter radius of circle=\"))\n",
    "a=3.14*r**2\n",
    "print (\"Area of circle=\",a)"
   ]
  },
  {
   "cell_type": "markdown",
   "id": "113cda68",
   "metadata": {},
   "source": [
    "Circumference of circle"
   ]
  },
  {
   "cell_type": "code",
   "execution_count": 5,
   "id": "d1bb6919",
   "metadata": {},
   "outputs": [
    {
     "name": "stdout",
     "output_type": "stream",
     "text": [
      "Perimeter of circle= 31.400000000000002\n"
     ]
    }
   ],
   "source": [
    "r=5\n",
    "a=2*3.14*5\n",
    "print(\"Perimeter of circle=\",a)"
   ]
  },
  {
   "cell_type": "code",
   "execution_count": null,
   "id": "b34b5cab",
   "metadata": {},
   "outputs": [],
   "source": []
  }
 ],
 "metadata": {
  "kernelspec": {
   "display_name": "Python 3 (ipykernel)",
   "language": "python",
   "name": "python3"
  },
  "language_info": {
   "codemirror_mode": {
    "name": "ipython",
    "version": 3
   },
   "file_extension": ".py",
   "mimetype": "text/x-python",
   "name": "python",
   "nbconvert_exporter": "python",
   "pygments_lexer": "ipython3",
   "version": "3.11.3"
  }
 },
 "nbformat": 4,
 "nbformat_minor": 5
}
