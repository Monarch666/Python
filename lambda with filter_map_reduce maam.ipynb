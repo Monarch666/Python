{
 "cells": [
  {
   "cell_type": "markdown",
   "id": "1081ef77",
   "metadata": {},
   "source": [
    "### filter()"
   ]
  },
  {
   "cell_type": "code",
   "execution_count": 1,
   "id": "a5cad1ed",
   "metadata": {},
   "outputs": [
    {
     "name": "stdout",
     "output_type": "stream",
     "text": [
      "[33, 13, 23, 45, 67, 3]\n"
     ]
    }
   ],
   "source": [
    "l=[56,33,13,23,22,45,56,67,3]\n",
    "x=list(filter(lambda a:a%2!=0,l))\n",
    "print(x)"
   ]
  },
  {
   "cell_type": "markdown",
   "id": "6f86fb97",
   "metadata": {},
   "source": [
    "### map()"
   ]
  },
  {
   "cell_type": "code",
   "execution_count": 3,
   "id": "33fb8aed",
   "metadata": {},
   "outputs": [
    {
     "name": "stdout",
     "output_type": "stream",
     "text": [
      "[1, 4, 9, 16, 25, 36, 49, 64, 81]\n"
     ]
    }
   ],
   "source": [
    "nums=[1,2,3,4,5,6,7,8,9]\n",
    "square=list(map(lambda a:a*a,nums))\n",
    "print(square)"
   ]
  },
  {
   "cell_type": "markdown",
   "id": "c0cc3fa0",
   "metadata": {},
   "source": [
    "### reduce()"
   ]
  },
  {
   "cell_type": "raw",
   "id": "8d7e54aa",
   "metadata": {},
   "source": [
    "the reduce(fn,seq) fn is used to apply a particular fn passed in its arguments to all of the\n",
    "list elements mentioned in the sequence passed along.\n",
    "- defined i9n \"functools\" modules\n",
    "- 2 4 6 8\n",
    "- 2+4 6 8\n",
    "- 6+6 8\n",
    "- 12+8\n",
    "- 20\n",
    "- At first step, 1st 2 elements of a sequence are picked and the result is obtained.\n",
    "\n",
    "syntax:\n",
    "-from functools import reduce\n",
    "result = reduce(lambda x, y: expression, iterable)\n"
   ]
  },
  {
   "cell_type": "markdown",
   "id": "6c8506c5",
   "metadata": {},
   "source": [
    "### sum of list elements using reduce fn"
   ]
  },
  {
   "cell_type": "code",
   "execution_count": 5,
   "id": "e8266d90",
   "metadata": {},
   "outputs": [],
   "source": [
    "from functools import reduce\n",
    "def myfn(a,b):\n",
    "    return a*b"
   ]
  },
  {
   "cell_type": "code",
   "execution_count": 6,
   "id": "e37de208",
   "metadata": {},
   "outputs": [
    {
     "data": {
      "text/plain": [
       "5040"
      ]
     },
     "execution_count": 6,
     "metadata": {},
     "output_type": "execute_result"
    }
   ],
   "source": [
    "val=[1,2,3,4,5,6,7]  #1,2 are a,b\n",
    "add=reduce(myfn,val)\n",
    "add"
   ]
  },
  {
   "cell_type": "code",
   "execution_count": 6,
   "id": "4487ad59",
   "metadata": {},
   "outputs": [],
   "source": [
    "add_lambda=reduce(lambda a,b:a+b,val)"
   ]
  },
  {
   "cell_type": "code",
   "execution_count": 7,
   "id": "c43174e4",
   "metadata": {},
   "outputs": [
    {
     "data": {
      "text/plain": [
       "28"
      ]
     },
     "execution_count": 7,
     "metadata": {},
     "output_type": "execute_result"
    }
   ],
   "source": [
    "add_lambda"
   ]
  },
  {
   "cell_type": "markdown",
   "id": "d8f06a6e",
   "metadata": {},
   "source": [
    "### Finding max value in the list using Reduce function"
   ]
  },
  {
   "cell_type": "code",
   "execution_count": 8,
   "id": "91d75682",
   "metadata": {},
   "outputs": [],
   "source": [
    "def maximum(a,b):\n",
    "    if a>b:\n",
    "        return a\n",
    "    else: \n",
    "        return b"
   ]
  },
  {
   "cell_type": "code",
   "execution_count": 10,
   "id": "af0401f0",
   "metadata": {},
   "outputs": [],
   "source": [
    "val=[2,4,5,7,10,19,20,10]\n",
    "max1=reduce(maximum,val)"
   ]
  },
  {
   "cell_type": "code",
   "execution_count": 11,
   "id": "757947f5",
   "metadata": {},
   "outputs": [
    {
     "data": {
      "text/plain": [
       "20"
      ]
     },
     "execution_count": 11,
     "metadata": {},
     "output_type": "execute_result"
    }
   ],
   "source": [
    "max1"
   ]
  },
  {
   "cell_type": "code",
   "execution_count": 17,
   "id": "45af4964",
   "metadata": {},
   "outputs": [],
   "source": [
    "max_lambda=reduce(lambda a,b:a if a>b else b,val)"
   ]
  },
  {
   "cell_type": "code",
   "execution_count": 18,
   "id": "0a93c0b2",
   "metadata": {},
   "outputs": [
    {
     "data": {
      "text/plain": [
       "100"
      ]
     },
     "execution_count": 18,
     "metadata": {},
     "output_type": "execute_result"
    }
   ],
   "source": [
    "max_lambda"
   ]
  },
  {
   "cell_type": "markdown",
   "id": "5091a399",
   "metadata": {},
   "source": [
    "### product of numbers"
   ]
  },
  {
   "cell_type": "code",
   "execution_count": 20,
   "id": "9c7590a2",
   "metadata": {},
   "outputs": [
    {
     "name": "stdout",
     "output_type": "stream",
     "text": [
      "Product of elements: 120\n"
     ]
    }
   ],
   "source": [
    "numbers = [1, 2, 3, 4, 5]\n",
    "product = reduce(lambda x, y: x * y, numbers)\n",
    "\n",
    "print(\"Product of elements:\", product)\n"
   ]
  },
  {
   "cell_type": "code",
   "execution_count": null,
   "id": "90bdb623",
   "metadata": {},
   "outputs": [],
   "source": []
  }
 ],
 "metadata": {
  "kernelspec": {
   "display_name": "Python 3 (ipykernel)",
   "language": "python",
   "name": "python3"
  },
  "language_info": {
   "codemirror_mode": {
    "name": "ipython",
    "version": 3
   },
   "file_extension": ".py",
   "mimetype": "text/x-python",
   "name": "python",
   "nbconvert_exporter": "python",
   "pygments_lexer": "ipython3",
   "version": "3.11.4"
  }
 },
 "nbformat": 4,
 "nbformat_minor": 5
}
