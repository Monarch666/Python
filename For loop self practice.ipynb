{
 "cells": [
  {
   "cell_type": "code",
   "execution_count": 5,
   "id": "f1350f71",
   "metadata": {},
   "outputs": [
    {
     "name": "stdout",
     "output_type": "stream",
     "text": [
      "Hi\n",
      "Hi\n",
      "Hi\n",
      "Hi\n",
      "Hi\n",
      "Hi\n",
      "Hi\n",
      "Hi\n",
      "Hi\n",
      "Hi\n",
      "Hi\n"
     ]
    }
   ],
   "source": [
    "for i in range (0,11):\n",
    "    print (\"Hi\")\n"
   ]
  },
  {
   "cell_type": "code",
   "execution_count": 10,
   "id": "c0dbf057",
   "metadata": {},
   "outputs": [
    {
     "name": "stdout",
     "output_type": "stream",
     "text": [
      "6\n",
      "4\n",
      "2\n",
      "0\n",
      "-2\n",
      "-4\n"
     ]
    }
   ],
   "source": [
    "for i in range (6,-6,-2):\n",
    "    print (i)"
   ]
  },
  {
   "cell_type": "code",
   "execution_count": 9,
   "id": "c54d6049",
   "metadata": {},
   "outputs": [
    {
     "name": "stdout",
     "output_type": "stream",
     "text": [
      "6\n",
      "5\n",
      "4\n",
      "3\n",
      "2\n",
      "1\n",
      "0\n",
      "-1\n",
      "-2\n",
      "-3\n",
      "-4\n",
      "-5\n"
     ]
    }
   ],
   "source": [
    "for i in range (6,-6,-1):\n",
    "    print (i)"
   ]
  },
  {
   "cell_type": "code",
   "execution_count": null,
   "id": "b16997e4",
   "metadata": {},
   "outputs": [],
   "source": [
    "total=0\n",
    "n=int(input(\"Enter a number=\"))\n",
    "      for i in range(0, n+1):\n",
    "        \n",
    "    "
   ]
  },
  {
   "cell_type": "code",
   "execution_count": 14,
   "id": "d4979281",
   "metadata": {},
   "outputs": [
    {
     "name": "stdout",
     "output_type": "stream",
     "text": [
      "All the best\n",
      "All the best\n",
      "All the best\n",
      "All the best\n",
      "All the best\n",
      "All the best\n",
      "All the best\n",
      "All the best\n",
      "All the best\n",
      "All the best\n",
      "All the best\n",
      "All the best\n",
      "All the best\n",
      "All the best\n",
      "All the best\n",
      "All the best\n",
      "All the best\n",
      "All the best\n",
      "All the best\n",
      "All the best\n",
      "All the best\n",
      "All the best\n",
      "All the best\n",
      "All the best\n",
      "All the best\n",
      "All the best\n",
      "All the best\n",
      "All the best\n",
      "All the best\n",
      "All the best\n",
      "All the best\n",
      "All the best\n",
      "All the best\n",
      "All the best\n",
      "All the best\n",
      "All the best\n",
      "All the best\n",
      "All the best\n",
      "All the best\n",
      "All the best\n",
      "All the best\n",
      "All the best\n",
      "All the best\n",
      "All the best\n",
      "All the best\n",
      "All the best\n",
      "All the best\n",
      "All the best\n",
      "All the best\n"
     ]
    }
   ],
   "source": [
    "for i in range(1,50):\n",
    "    print(\"All the best\")"
   ]
  },
  {
   "cell_type": "code",
   "execution_count": 4,
   "id": "d357c274",
   "metadata": {},
   "outputs": [
    {
     "name": "stdout",
     "output_type": "stream",
     "text": [
      "Enter a number=2\n",
      "Factorial= 3.0\n"
     ]
    }
   ],
   "source": [
    "result=1\n",
    "n= float(input(\"Enter a number=\"))\n",
    "for i in (1, n+1):\n",
    "    result=result*i\n",
    "print(\"Factorial=\",result)"
   ]
  },
  {
   "cell_type": "code",
   "execution_count": null,
   "id": "d4ad0087",
   "metadata": {},
   "outputs": [],
   "source": [
    "for i in range(1,6)\n"
   ]
  }
 ],
 "metadata": {
  "kernelspec": {
   "display_name": "Python 3 (ipykernel)",
   "language": "python",
   "name": "python3"
  },
  "language_info": {
   "codemirror_mode": {
    "name": "ipython",
    "version": 3
   },
   "file_extension": ".py",
   "mimetype": "text/x-python",
   "name": "python",
   "nbconvert_exporter": "python",
   "pygments_lexer": "ipython3",
   "version": "3.11.4"
  }
 },
 "nbformat": 4,
 "nbformat_minor": 5
}
