{
 "cells": [
  {
   "cell_type": "code",
   "execution_count": 23,
   "id": "904646a6",
   "metadata": {},
   "outputs": [
    {
     "data": {
      "text/plain": [
       "True"
      ]
     },
     "execution_count": 23,
     "metadata": {},
     "output_type": "execute_result"
    }
   ],
   "source": [
    "even=lambda a:a%2==0\n",
    "even(10)"
   ]
  },
  {
   "cell_type": "markdown",
   "id": "8abf964c",
   "metadata": {},
   "source": [
    "1.Write a Python program to create a lambda function that adds 15 to a given \n",
    "number passed in as an argument, also create a lambda function that \n",
    "multiplies argument x with argument y and print the result.\n",
    "Sample Output:\n",
    "25\n",
    "48"
   ]
  },
  {
   "cell_type": "code",
   "execution_count": 1,
   "id": "7b5047c3",
   "metadata": {
    "scrolled": true
   },
   "outputs": [
    {
     "name": "stdout",
     "output_type": "stream",
     "text": [
      "25\n",
      "48\n"
     ]
    }
   ],
   "source": [
    "r = lambda a : a + 15\n",
    "print(r(10)) \n",
    "r = lambda x, y : x * y \n",
    "print(r(12, 4)) "
   ]
  },
  {
   "cell_type": "markdown",
   "id": "1749ea90",
   "metadata": {},
   "source": [
    "2. Write a Python program to create a function that takes one argument, and \n",
    "that argument will be multiplied with an unknown given number.\n",
    "Sample Output:\n",
    "Double the number of 15 = 30\n",
    "Triple the number of 15 = 45\n",
    "Quadruple the number of 15 = 60\n",
    "Quintuple the number 15 = 75"
   ]
  },
  {
   "cell_type": "code",
   "execution_count": 39,
   "id": "7a615696",
   "metadata": {},
   "outputs": [
    {
     "name": "stdout",
     "output_type": "stream",
     "text": [
      "[30, 45, 60, 75]\n"
     ]
    }
   ],
   "source": [
    "f = lambda a: [(a*i) for i in range(2,6)]\n",
    "print(f( 15))\n"
   ]
  },
  {
   "cell_type": "code",
   "execution_count": 47,
   "id": "d72cefe5",
   "metadata": {},
   "outputs": [
    {
     "name": "stdout",
     "output_type": "stream",
     "text": [
      "Double the number of 15 = 30\n",
      "Triple the number of 15 = 45\n",
      "Quadruple the number of 15 = 60\n",
      "Quintuple the number 15= 75\n"
     ]
    }
   ],
   "source": [
    "def multiplier(n): \n",
    "    return lambda x : x * n \n",
    "result = multiplier(2) \n",
    "print(\"Double the number of 15 =\",result(15)) \n",
    "result = multiplier(3) \n",
    "print(\"Triple the number of 15 =\",result(15)) \n",
    "result = multiplier(4) \n",
    "print(\"Quadruple the number of 15 =\",result(15))\n",
    "result = multiplier(5) \n",
    "print(\"Quintuple the number 15=\", result(15))"
   ]
  },
  {
   "cell_type": "markdown",
   "id": "f88771c7",
   "metadata": {},
   "source": [
    "3 Write a Python program to sort a list of tuples using Lambda.\n",
    "Original list of tuples:\n",
    "[('English', 88), ('Science', 90), ('Maths', 97), ('Social sciences', 82)]\n",
    "Sorting the List of Tuples:\n",
    "[('Social sciences', 82), ('English', 88), ('Science', 90), ('Maths', 97)]"
   ]
  },
  {
   "cell_type": "code",
   "execution_count": 3,
   "id": "8b5db421",
   "metadata": {},
   "outputs": [
    {
     "name": "stdout",
     "output_type": "stream",
     "text": [
      "sorted list is: [('Social sciences', 82), ('English', 88), ('science', 90), ('Maths', 97)]\n"
     ]
    }
   ],
   "source": [
    "l=[('English', 88), ('science', 90), ('Maths', 97), ('Social sciences', 82)]\n",
    "l.sort(key=lambda x:len(x [0]),reverse =True)\n",
    "print(\"sorted list is:\",l)"
   ]
  },
  {
   "cell_type": "markdown",
   "id": "64abee18",
   "metadata": {},
   "source": [
    "4. Write a Python program to sort a list of dictionaries using Lambda.\n",
    "Original list of dictionaries :\n",
    "[{'make': 'Nokia', 'model': 216, 'color': 'Black'}, {'make': 'Mi Max', 'model': '2', \n",
    "'color': 'Gold'}, {'make': 'Samsung', 'model': 7, 'color': 'Blue'}]\n",
    "Sorting the List of dictionaries :\n",
    "[{'make': 'Nokia', 'model': 216, 'color': 'Black'}, {'make': 'Samsung', 'model': 7, 'color': 'Blue'}, {'make': 'Mi Max', 'model': '2', 'color': 'Gold'}]"
   ]
  },
  {
   "cell_type": "code",
   "execution_count": 4,
   "id": "1b8b725a",
   "metadata": {},
   "outputs": [
    {
     "data": {
      "text/plain": [
       "[{'make': 'Nokia', 'model': 216, 'color': 'Black'},\n",
       " {'make': 'Samsung', 'model': 7, 'color': 'Blue'},\n",
       " {'make': 'Mi Max', 'model': 2, 'color': 'Gold'}]"
      ]
     },
     "execution_count": 4,
     "metadata": {},
     "output_type": "execute_result"
    }
   ],
   "source": [
    "l1=[{'make': 'Nokia', 'model': 216, 'color': 'Black'}, {'make': 'Mi Max', 'model': 2, \n",
    "'color': 'Gold'}, {'make': 'Samsung', 'model': 7, 'color': 'Blue'}]\n",
    "l1.sort(key=lambda x: (x['model']),reverse=True)\n",
    "l1\n",
    "\n",
    "\n",
    "\n"
   ]
  },
  {
   "cell_type": "markdown",
   "id": "df1aea1c",
   "metadata": {},
   "source": [
    "5. Write a Python program to filter a list of integers using Lambda.\n",
    "Original list of integers:\n",
    "[1, 2, 3, 4, 5, 6, 7, 8, 9, 10]\n",
    "Even numbers from the said list:\n",
    "[2, 4, 6, 8, 10]\n",
    "Odd numbers from the said list:\n",
    "[1, 3, 5, 7, 9]\n"
   ]
  },
  {
   "cell_type": "code",
   "execution_count": 18,
   "id": "d905ce7c",
   "metadata": {},
   "outputs": [
    {
     "name": "stdout",
     "output_type": "stream",
     "text": [
      "Even no. from the said list are: [2, 4, 6, 8, 10]\n",
      "odd no. from the said list are: [1, 3, 5, 7, 9]\n"
     ]
    }
   ],
   "source": [
    "my_list=[1,2,3,4,5,6,7,8,9,10]\n",
    "even=list(filter(lambda x:x%2==0,my_list))\n",
    "print(\"Even no. from the said list are:\",even)         \n",
    "odd=list(filter(lambda x:x%2!=0,my_list))         \n",
    "print(\"odd no. from the said list are:\",odd)         \n",
    "          "
   ]
  },
  {
   "cell_type": "markdown",
   "id": "876982e1",
   "metadata": {},
   "source": [
    "6. Write a Python program to square and cube every number in a given list of \n",
    "integers using Lambda.\n",
    "Original list of integers:\n",
    "[1, 2, 3, 4, 5, 6, 7, 8, 9, 10]\n",
    "Square every number of the said list:\n",
    "[1, 4, 9, 16, 25, 36, 49, 64, 81, 100]\n",
    "Cube every number of the said list:\n",
    "[1, 8, 27, 64, 125, 216, 343, 512, 729, 1000]"
   ]
  },
  {
   "cell_type": "code",
   "execution_count": 23,
   "id": "ea7c0ad0",
   "metadata": {},
   "outputs": [
    {
     "name": "stdout",
     "output_type": "stream",
     "text": [
      "square every no. of the list: [1, 4, 9, 16, 25, 36, 49, 64, 81, 100]\n",
      "cube every no. of the list: [1, 8, 27, 64, 125, 216, 343, 512, 729, 1000]\n"
     ]
    }
   ],
   "source": [
    "original_list=[1, 2, 3, 4, 5, 6, 7, 8, 9, 10]\n",
    "square=list(map(lambda x:x**2,original_list))\n",
    "print (\"square every no. of the list:\",square)\n",
    "cube= list(map(lambda x:x**3,original_list))             \n",
    "print (\"cube every no. of the list:\",cube)\n",
    "                          \n",
    "               \n",
    "               \n",
    "               \n",
    "               \n",
    "               \n",
    "        "
   ]
  },
  {
   "cell_type": "markdown",
   "id": "47c62dc4",
   "metadata": {},
   "source": [
    "7. Write a Python program to find if a given string starts with a given character \n",
    "using Lambda.\n",
    "Sample Output:\n",
    "True\n",
    "False\n"
   ]
  },
  {
   "cell_type": "code",
   "execution_count": 24,
   "id": "cf5e265f",
   "metadata": {},
   "outputs": [
    {
     "name": "stdout",
     "output_type": "stream",
     "text": [
      "True\n",
      "False\n"
     ]
    }
   ],
   "source": [
    "starts_with = lambda x: True if x.startswith('P') else False \n",
    "print(starts_with('Python')) \n",
    "starts_with = lambda x: True if x.startswith('P') else False \n",
    "print(starts_with('Java'))"
   ]
  },
  {
   "cell_type": "markdown",
   "id": "47a18029",
   "metadata": {},
   "source": [
    "8. Write a Python program to extract year, month, date and time using \n",
    "Lambda.\n",
    "Sample Output:\n",
    "2020-01-15 09:03:32.744178\n",
    "2020\n",
    "1\n",
    "15\n",
    "09:03:32.744178"
   ]
  },
  {
   "cell_type": "code",
   "execution_count": 27,
   "id": "2ac1dc29",
   "metadata": {},
   "outputs": [
    {
     "name": "stdout",
     "output_type": "stream",
     "text": [
      "2022-07-19 12:56:39.744317\n",
      "2022\n",
      "7\n",
      "19\n",
      "12:56:39.744317\n"
     ]
    }
   ],
   "source": [
    "import datetime \n",
    "now = datetime.datetime.now()\n",
    "print(now) \n",
    "year = lambda x: x.year \n",
    "month = lambda x: x.month\n",
    "day = lambda x: x.day\n",
    "t = lambda x: x.time()\n",
    "print(year(now))\n",
    "print(month(now))\n",
    "print(day(now))\n",
    "print(t(now))\n",
    "\n",
    "\n",
    "\n",
    "\n",
    "\n"
   ]
  },
  {
   "cell_type": "markdown",
   "id": "ac423f17",
   "metadata": {},
   "source": [
    "9. Write a Python program to create Fibonacci series upto n using Lambda.\n",
    "Fibonacci series upto 2:\n",
    "[0, 1]\n",
    "Fibonacci series upto 5:\n",
    "[0, 1, 1, 2, 3]\n",
    "Fibonacci series upto 6:\n",
    "[0, 1, 1, 2, 3, 5]\n",
    "Fibonacci series upto 9:\n",
    "[0, 1, 1, 2, 3, 5, 8, 13, 21]"
   ]
  },
  {
   "cell_type": "code",
   "execution_count": 60,
   "id": "1e5e2404",
   "metadata": {},
   "outputs": [
    {
     "name": "stdout",
     "output_type": "stream",
     "text": [
      "Fibonacci series upto 2:\n",
      "[0, 1]\n",
      "\n",
      "Fibonacci series upto 5:\n",
      "[0, 1, 1, 2, 3]\n",
      "\n",
      "Fibonacci series upto 6:\n",
      "[0, 1, 1, 2, 3, 5]\n",
      "\n",
      "Fibonacci series upto 9:\n",
      "[0, 1, 1, 2, 3, 5, 8, 13, 21]\n"
     ]
    }
   ],
   "source": [
    "\n",
    "from functools import reduce\n",
    "fib_series = lambda n: reduce(lambda x, _: x+[x[-1]+x[-2]], range(n-2), [0, 1]) \n",
    "print(\"Fibonacci series upto 2:\") \n",
    "print(fib_series(2)) \n",
    "print(\"\\nFibonacci series upto 5:\") \n",
    "print(fib_series(5))\n",
    "print(\"\\nFibonacci series upto 6:\") \n",
    "print(fib_series(6))\n",
    "print(\"\\nFibonacci series upto 9:\") \n",
    "print(fib_series(9))\n",
    "\n",
    "\n",
    "\n",
    "\n",
    "\n",
    "\n",
    "\n",
    "\n",
    "\n",
    "\n",
    "\n"
   ]
  },
  {
   "cell_type": "markdown",
   "id": "6d58147c",
   "metadata": {},
   "source": [
    "10. Write a Python program to find intersection of two given arrays using \n",
    "Lambda.\n",
    "Original arrays:\n",
    "[1, 2, 3, 5, 7, 8, 9, 10]\n",
    "[1, 2, 4, 8, 9]\n",
    "Intersection of the said arrays: [1, 2, 8, 9]"
   ]
  },
  {
   "cell_type": "code",
   "execution_count": 64,
   "id": "0b27d0ba",
   "metadata": {},
   "outputs": [
    {
     "name": "stdout",
     "output_type": "stream",
     "text": [
      "[1, 2, 8, 9]\n"
     ]
    }
   ],
   "source": [
    "arr=[1, 2, 3, 5, 7, 8, 9, 10]\n",
    "arr1=[1, 2, 4, 8, 9]\n",
    "arr2=list(filter(lambda x:x in arr1, arr ))\n",
    "print(arr2)"
   ]
  },
  {
   "cell_type": "markdown",
   "id": "2112bcf5",
   "metadata": {},
   "source": [
    "11. Write a Python program to count the even, odd numbers in a given array \n",
    "of integers using Lambda.\n",
    "Original arrays:\n",
    "[1, 2, 3, 5, 7, 8, 9, 10]\n",
    "Number of even numbers in the above array: 3\n",
    "Number of odd numbers in the above array: 5"
   ]
  },
  {
   "cell_type": "code",
   "execution_count": 1,
   "id": "9e07e3a3",
   "metadata": {},
   "outputs": [
    {
     "name": "stdout",
     "output_type": "stream",
     "text": [
      "Original array:\n",
      "[1, 2, 3, 5, 7, 8, 9, 10]\n",
      "Number of even numbers in the above array: 3\n",
      "Number of odd numbers in the above array: 5\n"
     ]
    }
   ],
   "source": [
    "\n",
    "numbers = [1, 2, 3, 5, 7, 8, 9, 10]\n",
    "\n",
    "even_numbers = list(filter(lambda x: x % 2 == 0, numbers))\n",
    "odd_numbers = list(filter(lambda x: x % 2 != 0, numbers))\n",
    "\n",
    "# Count\n",
    "count_even = len(even_numbers)\n",
    "count_odd = len(odd_numbers)\n",
    "print(\"Original array:\")\n",
    "print(numbers)\n",
    "print(f\"Number of even numbers in the above array: {count_even}\")\n",
    "print(f\"Number of odd numbers in the above array: {count_odd}\")\n"
   ]
  },
  {
   "cell_type": "code",
   "execution_count": null,
   "id": "24bbeaad",
   "metadata": {},
   "outputs": [],
   "source": []
  }
 ],
 "metadata": {
  "kernelspec": {
   "display_name": "Python 3 (ipykernel)",
   "language": "python",
   "name": "python3"
  },
  "language_info": {
   "codemirror_mode": {
    "name": "ipython",
    "version": 3
   },
   "file_extension": ".py",
   "mimetype": "text/x-python",
   "name": "python",
   "nbconvert_exporter": "python",
   "pygments_lexer": "ipython3",
   "version": "3.11.4"
  }
 },
 "nbformat": 4,
 "nbformat_minor": 5
}
