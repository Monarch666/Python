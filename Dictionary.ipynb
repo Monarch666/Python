{
 "cells": [
  {
   "cell_type": "code",
   "execution_count": 5,
   "id": "044e43d7",
   "metadata": {},
   "outputs": [
    {
     "name": "stdout",
     "output_type": "stream",
     "text": [
      "frozenset({2, 3, 4, 5})\n"
     ]
    }
   ],
   "source": [
    "number=(2,3,4,5)\n",
    "num=frozenset(number)\n",
    "print(num)"
   ]
  },
  {
   "cell_type": "code",
   "execution_count": 6,
   "id": "fc47d534",
   "metadata": {},
   "outputs": [
    {
     "data": {
      "text/plain": [
       "frozenset({2, 3, 4, 5})"
      ]
     },
     "execution_count": 6,
     "metadata": {},
     "output_type": "execute_result"
    }
   ],
   "source": [
    "num"
   ]
  },
  {
   "cell_type": "code",
   "execution_count": 11,
   "id": "f8ac9a34",
   "metadata": {},
   "outputs": [
    {
     "name": "stdout",
     "output_type": "stream",
     "text": [
      "{(1, 2, 3): 'Aadarsh'}\n"
     ]
    }
   ],
   "source": [
    "Dictionary={(1,2,3):\"Aadarsh\"}\n",
    "print(Dictionary)"
   ]
  },
  {
   "cell_type": "code",
   "execution_count": 12,
   "id": "6a353396",
   "metadata": {},
   "outputs": [
    {
     "data": {
      "text/plain": [
       "12"
      ]
     },
     "execution_count": 12,
     "metadata": {},
     "output_type": "execute_result"
    }
   ],
   "source": [
    "a=60\n",
    "b=13\n",
    "a&b"
   ]
  },
  {
   "cell_type": "code",
   "execution_count": 13,
   "id": "d90ad856",
   "metadata": {},
   "outputs": [
    {
     "data": {
      "text/plain": [
       "61"
      ]
     },
     "execution_count": 13,
     "metadata": {},
     "output_type": "execute_result"
    }
   ],
   "source": [
    "a|b"
   ]
  },
  {
   "cell_type": "code",
   "execution_count": 15,
   "id": "d91408f9",
   "metadata": {},
   "outputs": [
    {
     "data": {
      "text/plain": [
       "0"
      ]
     },
     "execution_count": 15,
     "metadata": {},
     "output_type": "execute_result"
    }
   ],
   "source": [
    "a>>b"
   ]
  },
  {
   "cell_type": "code",
   "execution_count": 16,
   "id": "560a27d2",
   "metadata": {},
   "outputs": [
    {
     "data": {
      "text/plain": [
       "491520"
      ]
     },
     "execution_count": 16,
     "metadata": {},
     "output_type": "execute_result"
    }
   ],
   "source": [
    "a<<b"
   ]
  },
  {
   "cell_type": "code",
   "execution_count": 17,
   "id": "74fe8823",
   "metadata": {},
   "outputs": [
    {
     "data": {
      "text/plain": [
       "-61"
      ]
     },
     "execution_count": 17,
     "metadata": {},
     "output_type": "execute_result"
    }
   ],
   "source": [
    "~a"
   ]
  },
  {
   "cell_type": "code",
   "execution_count": 18,
   "id": "3f72ec0a",
   "metadata": {},
   "outputs": [
    {
     "data": {
      "text/plain": [
       "-14"
      ]
     },
     "execution_count": 18,
     "metadata": {},
     "output_type": "execute_result"
    }
   ],
   "source": [
    "~b"
   ]
  },
  {
   "cell_type": "code",
   "execution_count": 19,
   "id": "0b01a4a7",
   "metadata": {},
   "outputs": [],
   "source": [
    "c=12\n"
   ]
  },
  {
   "cell_type": "code",
   "execution_count": 20,
   "id": "a958b70c",
   "metadata": {},
   "outputs": [
    {
     "data": {
      "text/plain": [
       "-13"
      ]
     },
     "execution_count": 20,
     "metadata": {},
     "output_type": "execute_result"
    }
   ],
   "source": [
    "~c"
   ]
  },
  {
   "cell_type": "code",
   "execution_count": 21,
   "id": "f81ea27a",
   "metadata": {},
   "outputs": [
    {
     "data": {
      "text/plain": [
       "-16"
      ]
     },
     "execution_count": 21,
     "metadata": {},
     "output_type": "execute_result"
    }
   ],
   "source": [
    "d=15\n",
    "~d"
   ]
  },
  {
   "cell_type": "code",
   "execution_count": null,
   "id": "1b800d2c",
   "metadata": {},
   "outputs": [],
   "source": []
  }
 ],
 "metadata": {
  "kernelspec": {
   "display_name": "Python 3 (ipykernel)",
   "language": "python",
   "name": "python3"
  },
  "language_info": {
   "codemirror_mode": {
    "name": "ipython",
    "version": 3
   },
   "file_extension": ".py",
   "mimetype": "text/x-python",
   "name": "python",
   "nbconvert_exporter": "python",
   "pygments_lexer": "ipython3",
   "version": "3.11.4"
  }
 },
 "nbformat": 4,
 "nbformat_minor": 5
}
