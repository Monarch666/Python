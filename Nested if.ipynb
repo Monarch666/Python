{
 "cells": [
  {
   "cell_type": "markdown",
   "id": "9e32dac4",
   "metadata": {},
   "source": [
    "## Example code to check voting eligibility with ID verification\n"
   ]
  },
  {
   "cell_type": "code",
   "execution_count": 11,
   "id": "d141b63f",
   "metadata": {
    "scrolled": true
   },
   "outputs": [
    {
     "name": "stdout",
     "output_type": "stream",
     "text": [
      "Enter your age: 5\n",
      "Do you have a valid ID? (yes/no): yes\n",
      "You are not eligible to vote.\n"
     ]
    }
   ],
   "source": [
    "age = int(input(\"Enter your age: \"))\n",
    "has_id = input(\"Do you have a valid ID? (yes/no): \").lower()\n",
    "\n",
    "if age >= 18:\n",
    "    if has_id == \"yes\":\n",
    "        print(\"You are eligible to vote.\")\n",
    "    else:\n",
    "        print(\"Please bring a valid ID to vote.\")\n",
    "else:\n",
    "    print(\"You are not eligible to vote.\")"
   ]
  },
  {
   "cell_type": "code",
   "execution_count": 9,
   "id": "3a37b0f1",
   "metadata": {},
   "outputs": [
    {
     "name": "stdout",
     "output_type": "stream",
     "text": [
      "Enter your age: 89\n",
      "Do you have a valid ID? (yes/no): no\n",
      "Please bring a valid ID to vote.\n"
     ]
    }
   ],
   "source": [
    "age = int(input(\"Enter your age: \"))\n",
    "has_id = input(\"Do you have a valid ID? (yes/no): \").lower()\n",
    "\n",
    "if age >= 18 and has_id == \"yes\": \n",
    "    print(\"You are eligible to vote.\")\n",
    "elif age >= 18 and has_id == \"no\":\n",
    "    print(\"Please bring a valid ID to vote.\")\n",
    "else:\n",
    "    print(\"You are not eligible to vote.\")"
   ]
  },
  {
   "cell_type": "markdown",
   "id": "56f36a5b",
   "metadata": {},
   "source": [
    "## Example code to determine ticket pricing based on age and type"
   ]
  },
  {
   "cell_type": "code",
   "execution_count": 17,
   "id": "36e86619",
   "metadata": {},
   "outputs": [
    {
     "name": "stdout",
     "output_type": "stream",
     "text": [
      "Enter your age: 19\n",
      "Enter ticket type (adult/child): child\n",
      "Ticket price: 5\n"
     ]
    }
   ],
   "source": [
    "age = int(input(\"Enter your age: \"))\n",
    "ticket_type = input(\"Enter ticket type (adult/child): \").upper()\n",
    "\n",
    "if ticket_type == \"ADULT\":\n",
    "    if age >= 18:\n",
    "        price = 10\n",
    "    else:\n",
    "        price = 5\n",
    "else:\n",
    "    if age <= 12:\n",
    "        price = 2\n",
    "    else:\n",
    "        price = 5\n",
    "\n",
    "print(\"Ticket price:\", price)"
   ]
  },
  {
   "cell_type": "markdown",
   "id": "1af3726d",
   "metadata": {},
   "source": [
    "### Example code to calculate discount based on purchase amount and membership"
   ]
  },
  {
   "cell_type": "code",
   "execution_count": null,
   "id": "92c1c3e6",
   "metadata": {},
   "outputs": [],
   "source": [
    "\n",
    "\n",
    "purchase_amount = float(input(\"Enter purchase amount: \"))\n",
    "is_member = input(\"Are you a member? (yes/no): \").lower()\n",
    "\n",
    "if is_member == \"yes\":\n",
    "    if purchase_amount >= 100:\n",
    "        discount = 0.1 * purchase_amount\n",
    "    else:\n",
    "        discount = 0.05 * purchase_amount\n",
    "else:\n",
    "    if purchase_amount >= 100:\n",
    "        discount = 0.05 * purchase_amount\n",
    "    else:\n",
    "        discount = 0\n",
    "\n",
    "total_amount = purchase_amount - discount\n",
    "print(\"Total amount after discount:\", total_amount)"
   ]
  },
  {
   "cell_type": "code",
   "execution_count": null,
   "id": "a154afc1",
   "metadata": {},
   "outputs": [],
   "source": []
  },
  {
   "cell_type": "code",
   "execution_count": 21,
   "id": "1d94b8c5",
   "metadata": {},
   "outputs": [
    {
     "name": "stdout",
     "output_type": "stream",
     "text": [
      "enter the first number:2\n",
      "enter the 2nd number:7\n",
      "enter the 3rd number:2\n",
      "x is not equal to 1\n"
     ]
    }
   ],
   "source": [
    "x=int(input(\"enter the first number:\"))\n",
    "y=int(input(\"enter the 2nd number:\"))\n",
    "z=int(input(\"enter the 3rd number:\"))\n",
    "\n",
    "if x == 1:\n",
    "    if y == 2:\n",
    "        if z == 3:\n",
    "            print(\"x, y, and z are all equal to 1, 2, and 3, respectively\")\n",
    "        else:\n",
    "            print(\"x and y are equal to 1 and 2, respectively, but z is not equal to 3\")\n",
    "    else:\n",
    "        print(\"x is equal to 1 but y is not equal to 2\")\n",
    "else:\n",
    "    print(\"x is not equal to 1\")\n"
   ]
  },
  {
   "cell_type": "code",
   "execution_count": null,
   "id": "ad40883a",
   "metadata": {},
   "outputs": [],
   "source": []
  }
 ],
 "metadata": {
  "kernelspec": {
   "display_name": "Python 3 (ipykernel)",
   "language": "python",
   "name": "python3"
  },
  "language_info": {
   "codemirror_mode": {
    "name": "ipython",
    "version": 3
   },
   "file_extension": ".py",
   "mimetype": "text/x-python",
   "name": "python",
   "nbconvert_exporter": "python",
   "pygments_lexer": "ipython3",
   "version": "3.11.3"
  }
 },
 "nbformat": 4,
 "nbformat_minor": 5
}
